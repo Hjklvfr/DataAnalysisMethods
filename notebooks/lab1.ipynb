{
 "cells": [
  {
   "cell_type": "markdown",
   "source": [
    "# Task 1\n",
    "\n",
    "В результате проведения контрольных замеров ключевого параметра продукции была получена следующая выборка данных. Измерения – в миллиметрах. Все вычисления должны быть проведены «вручную» и с использованием ПО (например, Python, Excel и т.п.)\n",
    "1)\tВизуализируйте ваши данные. Что вы можете сказать о них?\n",
    "2)\tНайдите выборочное среднее, моду, медиану и стандартное отклонение. Рассчитайте коэффициент асимметрии и эксцесса.\n",
    "3)\tВыполните проверку данных на «нормальность».\n",
    "4)\tОцените среднее значение, получив доверительный интервал для среднего значения генеральной совокупности.\n",
    "5)\tСколько образцов потребуется (размер выборки), чтобы доверительный интервал для среднего не превышал ±0,5 мм?\n",
    "6)\tНайдите выборочный коэффициент вариации. Сделайте выводы о вариабельности выборки.\n"
   ],
   "metadata": {
    "collapsed": false
   }
  },
  {
   "cell_type": "code",
   "execution_count": 1,
   "outputs": [
    {
     "name": "stdout",
     "output_type": "stream",
     "text": [
      "bar\n"
     ]
    }
   ],
   "source": [
    "print('bar')"
   ],
   "metadata": {
    "collapsed": false
   }
  },
  {
   "cell_type": "code",
   "execution_count": 2,
   "outputs": [
    {
     "name": "stdout",
     "output_type": "stream",
     "text": [
      "bar\n"
     ]
    }
   ],
   "source": [
    "print('bar')"
   ],
   "metadata": {
    "collapsed": false
   }
  }
 ],
 "metadata": {
  "kernelspec": {
   "display_name": "Python 3",
   "language": "python",
   "name": "python3"
  },
  "language_info": {
   "codemirror_mode": {
    "name": "ipython",
    "version": 2
   },
   "file_extension": ".py",
   "mimetype": "text/x-python",
   "name": "python",
   "nbconvert_exporter": "python",
   "pygments_lexer": "ipython2",
   "version": "2.7.6"
  }
 },
 "nbformat": 4,
 "nbformat_minor": 0
}
