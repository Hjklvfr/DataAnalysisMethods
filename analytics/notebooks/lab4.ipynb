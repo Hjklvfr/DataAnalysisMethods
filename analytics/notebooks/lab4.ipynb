{
 "cells": [
  {
   "cell_type": "markdown",
   "id": "bb6e0ec9188b71ec",
   "metadata": {},
   "source": [
    "# Task 4\n",
    "\n",
    "1. Select tasks according to your option.\n",
    "2. Read the task carefully and, if necessary, determine which correlation coefficient you will use.\n",
    "Justify your choice.\n",
    "3. Give a complete solution to the problem, including data visualization, where necessary. All\n",
    "correlation coefficients you have to find \"manually\", as well as using Python (or a similar\n",
    "environment).\n",
    "4. Draw a conclusion based on the solution.\n",
    "\n",
    "### Variant 2\n",
    "Because my student ID number is 8ПМ32422"
   ]
  },
  {
   "cell_type": "markdown",
   "id": "25e623f06e69e875",
   "metadata": {},
   "source": [
    "## Task 1\n",
    "\n",
    "Calculate the Pearson sample linear correlation coefficient and check its significance at α = 0.05\n",
    "\n",
    "|   | 1   | 2   | 3   | 4   | 5   | 6   | 7   | 8   | 9   | 10  | 11  | 12  | 13  | 14  | 15  |\n",
    "|---|-----|-----|-----|-----|-----|-----|-----|-----|-----|-----|-----|-----|-----|-----|-----|\n",
    "| х | 8,4 | 8,3 | 9,1 | 9,9 | 9,8 | 9,7 | 8,8 | 9,0 | 9,2 | 9,4 | 9,5 | 9,3 | 9,2 | 9,1 | 9,3 |\n",
    "| у | 5,2 | 5,0 | 5,6 | 5,8 | 5,9 | 5,7 | 5,6 | 5,5 | 5,4 | 5,5 | 5,6 | 5,7 | 5,5 | 5,4 | 5,5 |\n"
   ]
  },
  {
   "metadata": {
    "ExecuteTime": {
     "end_time": "2024-06-03T18:57:36.904910Z",
     "start_time": "2024-06-03T18:57:36.889829Z"
    }
   },
   "cell_type": "code",
   "source": [
    "import numpy as np\n",
    "import pandas as pd\n",
    "import seaborn as sns\n",
    "import matplotlib.pyplot as plt"
   ],
   "id": "b42881cedbfe3b3a",
   "outputs": [],
   "execution_count": 1
  },
  {
   "metadata": {
    "ExecuteTime": {
     "end_time": "2024-06-03T18:57:36.920833Z",
     "start_time": "2024-06-03T18:57:36.906851Z"
    }
   },
   "cell_type": "code",
   "source": [
    "X = np.array([8.4, 8.3, 9.1, 9.9, 9.8, 9.7, 8.8, 9.0, 9.2, 9.4, 9.5, 9.3, 9.2, 9.1, 9.3])\n",
    "X"
   ],
   "id": "d12799776152d9f1",
   "outputs": [
    {
     "data": {
      "text/plain": [
       "array([8.4, 8.3, 9.1, 9.9, 9.8, 9.7, 8.8, 9. , 9.2, 9.4, 9.5, 9.3, 9.2,\n",
       "       9.1, 9.3])"
      ]
     },
     "execution_count": 2,
     "metadata": {},
     "output_type": "execute_result"
    }
   ],
   "execution_count": 2
  },
  {
   "metadata": {
    "ExecuteTime": {
     "end_time": "2024-06-03T18:57:36.936849Z",
     "start_time": "2024-06-03T18:57:36.922851Z"
    }
   },
   "cell_type": "code",
   "source": [
    "Y = np.array([5.2, 5.0, 5.6, 5.8, 5.9, 5.7, 5.6, 5.5, 5.4, 5.5, 5.6, 5.7, 5.5, 5.4, 5.5])\n",
    "Y"
   ],
   "id": "2779a48a2dc0c09",
   "outputs": [
    {
     "data": {
      "text/plain": [
       "array([5.2, 5. , 5.6, 5.8, 5.9, 5.7, 5.6, 5.5, 5.4, 5.5, 5.6, 5.7, 5.5,\n",
       "       5.4, 5.5])"
      ]
     },
     "execution_count": 3,
     "metadata": {},
     "output_type": "execute_result"
    }
   ],
   "execution_count": 3
  },
  {
   "metadata": {
    "ExecuteTime": {
     "end_time": "2024-06-03T18:57:37.046415Z",
     "start_time": "2024-06-03T18:57:36.940829Z"
    }
   },
   "cell_type": "code",
   "source": [
    "df = pd.DataFrame.from_dict({'X': X, 'Y': Y})\n",
    "df"
   ],
   "id": "bb9079d21fb0529a",
   "outputs": [
    {
     "data": {
      "text/plain": [
       "      X    Y\n",
       "0   8.4  5.2\n",
       "1   8.3  5.0\n",
       "2   9.1  5.6\n",
       "3   9.9  5.8\n",
       "4   9.8  5.9\n",
       "5   9.7  5.7\n",
       "6   8.8  5.6\n",
       "7   9.0  5.5\n",
       "8   9.2  5.4\n",
       "9   9.4  5.5\n",
       "10  9.5  5.6\n",
       "11  9.3  5.7\n",
       "12  9.2  5.5\n",
       "13  9.1  5.4\n",
       "14  9.3  5.5"
      ],
      "text/html": [
       "<div>\n",
       "<style scoped>\n",
       "    .dataframe tbody tr th:only-of-type {\n",
       "        vertical-align: middle;\n",
       "    }\n",
       "\n",
       "    .dataframe tbody tr th {\n",
       "        vertical-align: top;\n",
       "    }\n",
       "\n",
       "    .dataframe thead th {\n",
       "        text-align: right;\n",
       "    }\n",
       "</style>\n",
       "<table border=\"1\" class=\"dataframe\">\n",
       "  <thead>\n",
       "    <tr style=\"text-align: right;\">\n",
       "      <th></th>\n",
       "      <th>X</th>\n",
       "      <th>Y</th>\n",
       "    </tr>\n",
       "  </thead>\n",
       "  <tbody>\n",
       "    <tr>\n",
       "      <th>0</th>\n",
       "      <td>8.4</td>\n",
       "      <td>5.2</td>\n",
       "    </tr>\n",
       "    <tr>\n",
       "      <th>1</th>\n",
       "      <td>8.3</td>\n",
       "      <td>5.0</td>\n",
       "    </tr>\n",
       "    <tr>\n",
       "      <th>2</th>\n",
       "      <td>9.1</td>\n",
       "      <td>5.6</td>\n",
       "    </tr>\n",
       "    <tr>\n",
       "      <th>3</th>\n",
       "      <td>9.9</td>\n",
       "      <td>5.8</td>\n",
       "    </tr>\n",
       "    <tr>\n",
       "      <th>4</th>\n",
       "      <td>9.8</td>\n",
       "      <td>5.9</td>\n",
       "    </tr>\n",
       "    <tr>\n",
       "      <th>5</th>\n",
       "      <td>9.7</td>\n",
       "      <td>5.7</td>\n",
       "    </tr>\n",
       "    <tr>\n",
       "      <th>6</th>\n",
       "      <td>8.8</td>\n",
       "      <td>5.6</td>\n",
       "    </tr>\n",
       "    <tr>\n",
       "      <th>7</th>\n",
       "      <td>9.0</td>\n",
       "      <td>5.5</td>\n",
       "    </tr>\n",
       "    <tr>\n",
       "      <th>8</th>\n",
       "      <td>9.2</td>\n",
       "      <td>5.4</td>\n",
       "    </tr>\n",
       "    <tr>\n",
       "      <th>9</th>\n",
       "      <td>9.4</td>\n",
       "      <td>5.5</td>\n",
       "    </tr>\n",
       "    <tr>\n",
       "      <th>10</th>\n",
       "      <td>9.5</td>\n",
       "      <td>5.6</td>\n",
       "    </tr>\n",
       "    <tr>\n",
       "      <th>11</th>\n",
       "      <td>9.3</td>\n",
       "      <td>5.7</td>\n",
       "    </tr>\n",
       "    <tr>\n",
       "      <th>12</th>\n",
       "      <td>9.2</td>\n",
       "      <td>5.5</td>\n",
       "    </tr>\n",
       "    <tr>\n",
       "      <th>13</th>\n",
       "      <td>9.1</td>\n",
       "      <td>5.4</td>\n",
       "    </tr>\n",
       "    <tr>\n",
       "      <th>14</th>\n",
       "      <td>9.3</td>\n",
       "      <td>5.5</td>\n",
       "    </tr>\n",
       "  </tbody>\n",
       "</table>\n",
       "</div>"
      ]
     },
     "execution_count": 4,
     "metadata": {},
     "output_type": "execute_result"
    }
   ],
   "execution_count": 4
  },
  {
   "metadata": {
    "ExecuteTime": {
     "end_time": "2024-06-03T18:57:37.851019Z",
     "start_time": "2024-06-03T18:57:37.049402Z"
    }
   },
   "cell_type": "code",
   "source": "sns.scatterplot(df, x='X', y='Y')",
   "id": "af8cac3ac8dcfafa",
   "outputs": [
    {
     "data": {
      "text/plain": [
       "<Axes: xlabel='X', ylabel='Y'>"
      ]
     },
     "execution_count": 5,
     "metadata": {},
     "output_type": "execute_result"
    },
    {
     "data": {
      "text/plain": [
       "<Figure size 640x480 with 1 Axes>"
      ],
      "image/png": "[encoded data removed]"
     },
     "metadata": {},
     "output_type": "display_data"
    }
   ],
   "execution_count": 5
  },
  {
   "metadata": {
    "ExecuteTime": {
     "end_time": "2024-06-03T18:57:38.350042Z",
     "start_time": "2024-06-03T18:57:37.853019Z"
    }
   },
   "cell_type": "code",
   "source": [
    "fig, ax = plt.subplots()\n",
    "sns.histplot(df, kde=True, bins=15, ax=ax)\n",
    "sns.move_legend(ax, loc='center left')"
   ],
   "id": "f5e625bd435b6543",
   "outputs": [
    {
     "data": {
      "text/plain": [
       "<Figure size 640x480 with 1 Axes>"
      ],
      "image/png": "[encoded data removed]"
     },
     "metadata": {},
     "output_type": "display_data"
    }
   ],
   "execution_count": 6
  },
  {
   "metadata": {},
   "cell_type": "markdown",
   "source": [
    "### Test for normality with Shapiro-Wilk test.\n",
    "\n",
    "H0: sample is normally distributed\n",
    "<br>\n",
    "H1: sample is not normally distributed "
   ],
   "id": "9b44cdbc3e0e0859"
  },
  {
   "metadata": {
    "ExecuteTime": {
     "end_time": "2024-06-03T18:57:38.366043Z",
     "start_time": "2024-06-03T18:57:38.352021Z"
    }
   },
   "cell_type": "code",
   "source": [
    "from scipy.stats import shapiro\n",
    "\n",
    "shapiro(df['X'])"
   ],
   "id": "3a50131214c4a94b",
   "outputs": [
    {
     "data": {
      "text/plain": [
       "ShapiroResult(statistic=0.9526602703925581, pvalue=0.5672820851703111)"
      ]
     },
     "execution_count": 7,
     "metadata": {},
     "output_type": "execute_result"
    }
   ],
   "execution_count": 7
  },
  {
   "metadata": {
    "ExecuteTime": {
     "end_time": "2024-06-03T18:57:38.381021Z",
     "start_time": "2024-06-03T18:57:38.368021Z"
    }
   },
   "cell_type": "code",
   "source": "shapiro(df['Y'])",
   "id": "ed7ba6c96a534ecd",
   "outputs": [
    {
     "data": {
      "text/plain": [
       "ShapiroResult(statistic=0.947429802749511, pvalue=0.4849194813856343)"
      ]
     },
     "execution_count": 8,
     "metadata": {},
     "output_type": "execute_result"
    }
   ],
   "execution_count": 8
  },
  {
   "metadata": {},
   "cell_type": "markdown",
   "source": [
    "Both p-value is greater than 0.05. Therefore, X Y is normally distributed accordingly Shapiro-Wilk test.\n",
    "\n",
    "Assume that X and Y is norm distributed."
   ],
   "id": "70cd93d8de1ddc3e"
  },
  {
   "metadata": {
    "ExecuteTime": {
     "end_time": "2024-06-03T18:57:43.434548Z",
     "start_time": "2024-06-03T18:57:38.382020Z"
    }
   },
   "cell_type": "code",
   "source": [
    "import statsmodels.api as sm\n",
    "\n",
    "_ = sm.qqplot(data=df['X'], loc=0, scale=1, line='45', fit=True)\n",
    "_ = sm.qqplot(data=df['Y'], loc=0, scale=1, line='45', fit=True)"
   ],
   "id": "4a570bbe64e99458",
   "outputs": [
    {
     "data": {
      "text/plain": [
       "<Figure size 640x480 with 1 Axes>"
      ],
      "image/png": "[encoded data removed]"
     },
     "metadata": {},
     "output_type": "display_data"
    },
    {
     "data": {
      "text/plain": [
       "<Figure size 640x480 with 1 Axes>"
      ],
      "image/png": "[encoded data removed]"
     },
     "metadata": {},
     "output_type": "display_data"
    }
   ],
   "execution_count": 9
  },
  {
   "metadata": {},
   "cell_type": "markdown",
   "source": [
    "### Pearson test\n",
    "\n",
    "H0: There is no linear relationship between X Y\n",
    "<br>\n",
    "H1: There is a linear relationship between X Y"
   ],
   "id": "922018d968a06ef"
  },
  {
   "metadata": {
    "ExecuteTime": {
     "end_time": "2024-06-03T18:57:43.481549Z",
     "start_time": "2024-06-03T18:57:43.435550Z"
    }
   },
   "cell_type": "code",
   "source": [
    "from scipy.stats import pearsonr\n",
    "\n",
    "pearsonr(df['X'], df['Y'])"
   ],
   "id": "9fccac05931041e",
   "outputs": [
    {
     "data": {
      "text/plain": [
       "PearsonRResult(statistic=0.868547156547988, pvalue=2.664355734736986e-05)"
      ]
     },
     "execution_count": 10,
     "metadata": {},
     "output_type": "execute_result"
    }
   ],
   "execution_count": 10
  },
  {
   "metadata": {},
   "cell_type": "markdown",
   "source": "Reject H0. There is a linear relationship.",
   "id": "d9a942183c607ce0"
  },
  {
   "metadata": {},
   "cell_type": "markdown",
   "source": [
    "## Task 2\n",
    "\n",
    "As a result of the study, two series of groups of 15 employees were obtained, ranked according to\n",
    "interest in the work performed (X) and according to the correspondence between education and work\n",
    "(Y). Find out if these signs are related. Check the significance of the correlation coefficient at α =\n",
    "0,01. When solving a problem, use two different correlation coefficients. Solve the problem in two\n",
    "ways, compare the result.\n",
    "\n",
    "|   | 1 | 2 | 3  | 4 | 5  | 6  | 7 | 8 | 9 | 10 | 11 | 12 | 13 | 14 | 15 |\n",
    "|---|---|---|----|---|----|----|---|---|---|----|----|----|----|----|----|\n",
    "| Х | 5 | 9 | 10 | 3 | 15 | 14 | 1 | 4 | 7 | 8  | 11 | 13 | 2  | 6  | 12 |\n",
    "| У | 4 | 8 | 9  | 2 | 14 | 11 | 3 | 5 | 6 | 10 | 13 | 12 | 1  | 7  | 15 |"
   ],
   "id": "80c91ad30983eddc"
  },
  {
   "metadata": {
    "ExecuteTime": {
     "end_time": "2024-06-03T18:57:43.497549Z",
     "start_time": "2024-06-03T18:57:43.483548Z"
    }
   },
   "cell_type": "code",
   "source": [
    "N = np.array(range(1, 16))\n",
    "N"
   ],
   "id": "b1a1007239b52c99",
   "outputs": [
    {
     "data": {
      "text/plain": [
       "array([ 1,  2,  3,  4,  5,  6,  7,  8,  9, 10, 11, 12, 13, 14, 15])"
      ]
     },
     "execution_count": 11,
     "metadata": {},
     "output_type": "execute_result"
    }
   ],
   "execution_count": 11
  },
  {
   "metadata": {
    "ExecuteTime": {
     "end_time": "2024-06-03T18:57:43.513549Z",
     "start_time": "2024-06-03T18:57:43.499551Z"
    }
   },
   "cell_type": "code",
   "source": [
    "X = np.array([5, 9, 10, 3, 15, 14, 1, 4, 7, 8, 11, 13, 2, 6, 12])\n",
    "X"
   ],
   "id": "72d26351d3ed8c03",
   "outputs": [
    {
     "data": {
      "text/plain": [
       "array([ 5,  9, 10,  3, 15, 14,  1,  4,  7,  8, 11, 13,  2,  6, 12])"
      ]
     },
     "execution_count": 12,
     "metadata": {},
     "output_type": "execute_result"
    }
   ],
   "execution_count": 12
  },
  {
   "metadata": {
    "ExecuteTime": {
     "end_time": "2024-06-03T18:57:43.529550Z",
     "start_time": "2024-06-03T18:57:43.515550Z"
    }
   },
   "cell_type": "code",
   "source": [
    "Y = np.array([4, 8, 9, 2, 14, 11, 3, 5, 6, 10, 13, 12, 1, 7, 15])\n",
    "Y"
   ],
   "id": "20ea7b81e2dd8929",
   "outputs": [
    {
     "data": {
      "text/plain": [
       "array([ 4,  8,  9,  2, 14, 11,  3,  5,  6, 10, 13, 12,  1,  7, 15])"
      ]
     },
     "execution_count": 13,
     "metadata": {},
     "output_type": "execute_result"
    }
   ],
   "execution_count": 13
  },
  {
   "metadata": {
    "ExecuteTime": {
     "end_time": "2024-06-03T18:57:43.544549Z",
     "start_time": "2024-06-03T18:57:43.531551Z"
    }
   },
   "cell_type": "code",
   "source": [
    "df = pd.DataFrame.from_dict({'N': N, 'X': X, 'Y': Y})\n",
    "df"
   ],
   "id": "4899d213f6acf104",
   "outputs": [
    {
     "data": {
      "text/plain": [
       "     N   X   Y\n",
       "0    1   5   4\n",
       "1    2   9   8\n",
       "2    3  10   9\n",
       "3    4   3   2\n",
       "4    5  15  14\n",
       "5    6  14  11\n",
       "6    7   1   3\n",
       "7    8   4   5\n",
       "8    9   7   6\n",
       "9   10   8  10\n",
       "10  11  11  13\n",
       "11  12  13  12\n",
       "12  13   2   1\n",
       "13  14   6   7\n",
       "14  15  12  15"
      ],
      "text/html": [
       "<div>\n",
       "<style scoped>\n",
       "    .dataframe tbody tr th:only-of-type {\n",
       "        vertical-align: middle;\n",
       "    }\n",
       "\n",
       "    .dataframe tbody tr th {\n",
       "        vertical-align: top;\n",
       "    }\n",
       "\n",
       "    .dataframe thead th {\n",
       "        text-align: right;\n",
       "    }\n",
       "</style>\n",
       "<table border=\"1\" class=\"dataframe\">\n",
       "  <thead>\n",
       "    <tr style=\"text-align: right;\">\n",
       "      <th></th>\n",
       "      <th>N</th>\n",
       "      <th>X</th>\n",
       "      <th>Y</th>\n",
       "    </tr>\n",
       "  </thead>\n",
       "  <tbody>\n",
       "    <tr>\n",
       "      <th>0</th>\n",
       "      <td>1</td>\n",
       "      <td>5</td>\n",
       "      <td>4</td>\n",
       "    </tr>\n",
       "    <tr>\n",
       "      <th>1</th>\n",
       "      <td>2</td>\n",
       "      <td>9</td>\n",
       "      <td>8</td>\n",
       "    </tr>\n",
       "    <tr>\n",
       "      <th>2</th>\n",
       "      <td>3</td>\n",
       "      <td>10</td>\n",
       "      <td>9</td>\n",
       "    </tr>\n",
       "    <tr>\n",
       "      <th>3</th>\n",
       "      <td>4</td>\n",
       "      <td>3</td>\n",
       "      <td>2</td>\n",
       "    </tr>\n",
       "    <tr>\n",
       "      <th>4</th>\n",
       "      <td>5</td>\n",
       "      <td>15</td>\n",
       "      <td>14</td>\n",
       "    </tr>\n",
       "    <tr>\n",
       "      <th>5</th>\n",
       "      <td>6</td>\n",
       "      <td>14</td>\n",
       "      <td>11</td>\n",
       "    </tr>\n",
       "    <tr>\n",
       "      <th>6</th>\n",
       "      <td>7</td>\n",
       "      <td>1</td>\n",
       "      <td>3</td>\n",
       "    </tr>\n",
       "    <tr>\n",
       "      <th>7</th>\n",
       "      <td>8</td>\n",
       "      <td>4</td>\n",
       "      <td>5</td>\n",
       "    </tr>\n",
       "    <tr>\n",
       "      <th>8</th>\n",
       "      <td>9</td>\n",
       "      <td>7</td>\n",
       "      <td>6</td>\n",
       "    </tr>\n",
       "    <tr>\n",
       "      <th>9</th>\n",
       "      <td>10</td>\n",
       "      <td>8</td>\n",
       "      <td>10</td>\n",
       "    </tr>\n",
       "    <tr>\n",
       "      <th>10</th>\n",
       "      <td>11</td>\n",
       "      <td>11</td>\n",
       "      <td>13</td>\n",
       "    </tr>\n",
       "    <tr>\n",
       "      <th>11</th>\n",
       "      <td>12</td>\n",
       "      <td>13</td>\n",
       "      <td>12</td>\n",
       "    </tr>\n",
       "    <tr>\n",
       "      <th>12</th>\n",
       "      <td>13</td>\n",
       "      <td>2</td>\n",
       "      <td>1</td>\n",
       "    </tr>\n",
       "    <tr>\n",
       "      <th>13</th>\n",
       "      <td>14</td>\n",
       "      <td>6</td>\n",
       "      <td>7</td>\n",
       "    </tr>\n",
       "    <tr>\n",
       "      <th>14</th>\n",
       "      <td>15</td>\n",
       "      <td>12</td>\n",
       "      <td>15</td>\n",
       "    </tr>\n",
       "  </tbody>\n",
       "</table>\n",
       "</div>"
      ]
     },
     "execution_count": 14,
     "metadata": {},
     "output_type": "execute_result"
    }
   ],
   "execution_count": 14
  },
  {
   "metadata": {
    "ExecuteTime": {
     "end_time": "2024-06-03T19:13:01.721855Z",
     "start_time": "2024-06-03T19:13:01.436847Z"
    }
   },
   "cell_type": "code",
   "source": "sns.scatterplot(data=df, x='X', y='Y')",
   "id": "19c7345860066a66",
   "outputs": [
    {
     "data": {
      "text/plain": [
       "<Axes: xlabel='X', ylabel='Y'>"
      ]
     },
     "execution_count": 19,
     "metadata": {},
     "output_type": "execute_result"
    },
    {
     "data": {
      "text/plain": [
       "<Figure size 640x480 with 1 Axes>"
      ],
      "image/png": "[encoded data removed]"
     },
     "metadata": {},
     "output_type": "display_data"
    }
   ],
   "execution_count": 19
  },
  {
   "metadata": {},
   "cell_type": "markdown",
   "source": [
    "### Kendall\n",
    "H0: There is no linear relationship between X Y\n",
    "<br>\n",
    "H1: There is a linear relationship between X Y"
   ],
   "id": "15360f089122fdce"
  },
  {
   "metadata": {
    "ExecuteTime": {
     "end_time": "2024-06-03T19:01:23.471471Z",
     "start_time": "2024-06-03T19:01:23.459472Z"
    }
   },
   "cell_type": "code",
   "source": [
    "from scipy.stats import kendalltau\n",
    "\n",
    "res = kendalltau(df['X'], df['Y'])\n",
    "res"
   ],
   "id": "f7a5bf83dbd5ae45",
   "outputs": [
    {
     "data": {
      "text/plain": [
       "SignificanceResult(statistic=0.7714285714285715, pvalue=1.0056000424717356e-05)"
      ]
     },
     "execution_count": 16,
     "metadata": {},
     "output_type": "execute_result"
    }
   ],
   "execution_count": 16
  },
  {
   "metadata": {
    "ExecuteTime": {
     "end_time": "2024-06-03T19:01:31.395693Z",
     "start_time": "2024-06-03T19:01:31.381572Z"
    }
   },
   "cell_type": "code",
   "source": "res[1] < 0.01",
   "id": "cd4a5c91b21d72d7",
   "outputs": [
    {
     "data": {
      "text/plain": [
       "True"
      ]
     },
     "execution_count": 18,
     "metadata": {},
     "output_type": "execute_result"
    }
   ],
   "execution_count": 18
  },
  {
   "metadata": {},
   "cell_type": "markdown",
   "source": [
    "### Spearman\n",
    "\n",
    "H0: There is no linear relationship between X Y\n",
    "<br>\n",
    "H1: There is a linear relationship between X Y"
   ],
   "id": "3c6ef9ba2622947b"
  },
  {
   "metadata": {
    "ExecuteTime": {
     "end_time": "2024-06-03T19:21:27.567826Z",
     "start_time": "2024-06-03T19:21:27.520313Z"
    }
   },
   "cell_type": "code",
   "source": [
    "from scipy.stats import spearmanr\n",
    "\n",
    "res = spearmanr(df['X'], df['Y'])\n",
    "res"
   ],
   "id": "1831f5547d6e652a",
   "outputs": [
    {
     "data": {
      "text/plain": [
       "SignificanceResult(statistic=0.9285714285714284, pvalue=5.867938270803352e-07)"
      ]
     },
     "execution_count": 20,
     "metadata": {},
     "output_type": "execute_result"
    }
   ],
   "execution_count": 20
  },
  {
   "metadata": {
    "ExecuteTime": {
     "end_time": "2024-06-03T19:22:02.552663Z",
     "start_time": "2024-06-03T19:22:02.543686Z"
    }
   },
   "cell_type": "code",
   "source": "res[1] < 0.01",
   "id": "4177bbd8428512b9",
   "outputs": [
    {
     "data": {
      "text/plain": [
       "True"
      ]
     },
     "execution_count": 21,
     "metadata": {},
     "output_type": "execute_result"
    }
   ],
   "execution_count": 21
  },
  {
   "metadata": {},
   "cell_type": "markdown",
   "source": [
    "### Summary: There is a linear relationship between X Y\n",
    "Spearman statistic is much less than Kendall statistic "
   ],
   "id": "42aba4e58cf8cd6f"
  },
  {
   "metadata": {},
   "cell_type": "markdown",
   "source": [
    "## Task 3\n",
    "\n",
    "According to the table, find out whether the certificate with honors (0 - \"No\", 1 - \"Yes\") and the results of the first\n",
    "session at the university are related (0 - there is \"3\", 1 - there is no \"3\") for 10 respondents. Make a\n",
    "contingency table and calculate the association coefficient (Pearson's correlation coefficient for the\n",
    "dichotomous scale), check its significance.\n",
    "\n",
    "| №                                | 1 | 2 | 3 | 4 | 5 | 6 | 7 | 8 | 9 | 10 |\n",
    "|----------------------------------|---|---|---|---|---|---|---|---|---|----|\n",
    "| Certificate with distinction (X) | 0 | 1 | 1 | 0 | 0 | 0 | 1 | 1 | 1 | 0  |\n",
    "| Results of the first session (Y) | 0 | 1 | 1 | 1 | 0 | 0 | 1 | 1 | 0 | 1  |\n"
   ],
   "id": "2df2ca3a39d2e512"
  },
  {
   "metadata": {
    "ExecuteTime": {
     "end_time": "2024-06-03T19:32:32.266404Z",
     "start_time": "2024-06-03T19:32:32.249794Z"
    }
   },
   "cell_type": "code",
   "source": [
    "N = np.array(range(1, 11))\n",
    "N"
   ],
   "id": "88783275c6ebd5ae",
   "outputs": [
    {
     "data": {
      "text/plain": [
       "array([ 1,  2,  3,  4,  5,  6,  7,  8,  9, 10])"
      ]
     },
     "execution_count": 22,
     "metadata": {},
     "output_type": "execute_result"
    }
   ],
   "execution_count": 22
  },
  {
   "metadata": {
    "ExecuteTime": {
     "end_time": "2024-06-03T19:32:36.263282Z",
     "start_time": "2024-06-03T19:32:36.249758Z"
    }
   },
   "cell_type": "code",
   "source": [
    "X = np.array([0, 1, 1, 0, 0, 0, 1, 1, 1, 0])\n",
    "X"
   ],
   "id": "eb2b23b0aec88472",
   "outputs": [
    {
     "data": {
      "text/plain": [
       "array([0, 1, 1, 0, 0, 0, 1, 1, 1, 0])"
      ]
     },
     "execution_count": 23,
     "metadata": {},
     "output_type": "execute_result"
    }
   ],
   "execution_count": 23
  },
  {
   "metadata": {
    "ExecuteTime": {
     "end_time": "2024-06-03T19:32:37.348736Z",
     "start_time": "2024-06-03T19:32:37.333736Z"
    }
   },
   "cell_type": "code",
   "source": [
    "Y = np.array([0, 1, 1, 1, 0, 0, 1, 1, 0, 1])\n",
    "Y"
   ],
   "id": "d1c2b2c31d342f67",
   "outputs": [
    {
     "data": {
      "text/plain": [
       "array([0, 1, 1, 1, 0, 0, 1, 1, 0, 1])"
      ]
     },
     "execution_count": 24,
     "metadata": {},
     "output_type": "execute_result"
    }
   ],
   "execution_count": 24
  },
  {
   "metadata": {
    "ExecuteTime": {
     "end_time": "2024-06-03T19:32:42.269610Z",
     "start_time": "2024-06-03T19:32:42.259605Z"
    }
   },
   "cell_type": "code",
   "source": [
    "df = pd.DataFrame.from_dict({'N': N, 'X': X, 'Y': Y})\n",
    "df"
   ],
   "id": "5a880457e5d2cc2e",
   "outputs": [
    {
     "data": {
      "text/plain": [
       "    N  X  Y\n",
       "0   1  0  0\n",
       "1   2  1  1\n",
       "2   3  1  1\n",
       "3   4  0  1\n",
       "4   5  0  0\n",
       "5   6  0  0\n",
       "6   7  1  1\n",
       "7   8  1  1\n",
       "8   9  1  0\n",
       "9  10  0  1"
      ],
      "text/html": [
       "<div>\n",
       "<style scoped>\n",
       "    .dataframe tbody tr th:only-of-type {\n",
       "        vertical-align: middle;\n",
       "    }\n",
       "\n",
       "    .dataframe tbody tr th {\n",
       "        vertical-align: top;\n",
       "    }\n",
       "\n",
       "    .dataframe thead th {\n",
       "        text-align: right;\n",
       "    }\n",
       "</style>\n",
       "<table border=\"1\" class=\"dataframe\">\n",
       "  <thead>\n",
       "    <tr style=\"text-align: right;\">\n",
       "      <th></th>\n",
       "      <th>N</th>\n",
       "      <th>X</th>\n",
       "      <th>Y</th>\n",
       "    </tr>\n",
       "  </thead>\n",
       "  <tbody>\n",
       "    <tr>\n",
       "      <th>0</th>\n",
       "      <td>1</td>\n",
       "      <td>0</td>\n",
       "      <td>0</td>\n",
       "    </tr>\n",
       "    <tr>\n",
       "      <th>1</th>\n",
       "      <td>2</td>\n",
       "      <td>1</td>\n",
       "      <td>1</td>\n",
       "    </tr>\n",
       "    <tr>\n",
       "      <th>2</th>\n",
       "      <td>3</td>\n",
       "      <td>1</td>\n",
       "      <td>1</td>\n",
       "    </tr>\n",
       "    <tr>\n",
       "      <th>3</th>\n",
       "      <td>4</td>\n",
       "      <td>0</td>\n",
       "      <td>1</td>\n",
       "    </tr>\n",
       "    <tr>\n",
       "      <th>4</th>\n",
       "      <td>5</td>\n",
       "      <td>0</td>\n",
       "      <td>0</td>\n",
       "    </tr>\n",
       "    <tr>\n",
       "      <th>5</th>\n",
       "      <td>6</td>\n",
       "      <td>0</td>\n",
       "      <td>0</td>\n",
       "    </tr>\n",
       "    <tr>\n",
       "      <th>6</th>\n",
       "      <td>7</td>\n",
       "      <td>1</td>\n",
       "      <td>1</td>\n",
       "    </tr>\n",
       "    <tr>\n",
       "      <th>7</th>\n",
       "      <td>8</td>\n",
       "      <td>1</td>\n",
       "      <td>1</td>\n",
       "    </tr>\n",
       "    <tr>\n",
       "      <th>8</th>\n",
       "      <td>9</td>\n",
       "      <td>1</td>\n",
       "      <td>0</td>\n",
       "    </tr>\n",
       "    <tr>\n",
       "      <th>9</th>\n",
       "      <td>10</td>\n",
       "      <td>0</td>\n",
       "      <td>1</td>\n",
       "    </tr>\n",
       "  </tbody>\n",
       "</table>\n",
       "</div>"
      ]
     },
     "execution_count": 25,
     "metadata": {},
     "output_type": "execute_result"
    }
   ],
   "execution_count": 25
  },
  {
   "metadata": {
    "ExecuteTime": {
     "end_time": "2024-06-03T19:50:04.910960Z",
     "start_time": "2024-06-03T19:50:04.653109Z"
    }
   },
   "cell_type": "code",
   "source": "sns.scatterplot(data=df, x='X', y='Y')",
   "id": "6ebaffb9ae018517",
   "outputs": [
    {
     "data": {
      "text/plain": [
       "<Axes: xlabel='X', ylabel='Y'>"
      ]
     },
     "execution_count": 36,
     "metadata": {},
     "output_type": "execute_result"
    },
    {
     "data": {
      "text/plain": [
       "<Figure size 640x480 with 1 Axes>"
      ],
      "image/png": "[encoded data removed]"
     },
     "metadata": {},
     "output_type": "display_data"
    }
   ],
   "execution_count": 36
  },
  {
   "metadata": {
    "ExecuteTime": {
     "end_time": "2024-06-03T19:44:31.068916Z",
     "start_time": "2024-06-03T19:44:31.050914Z"
    }
   },
   "cell_type": "code",
   "source": [
    "ct = pd.crosstab(df['X'], df['Y'])\n",
    "ct = ct.rename(columns={0: 'there is \"3\"', 1: 'there is no \"3\"'})\n",
    "ct = ct.rename({0: 'NOT(certificate with honors)', 1: 'certificate with honors'}, axis=0)\n",
    "ct"
   ],
   "id": "52064403e3e3e01f",
   "outputs": [
    {
     "data": {
      "text/plain": [
       "Y                             there is \"3\"  there is no \"3\"\n",
       "X                                                          \n",
       "NOT(certificate with honors)             3                2\n",
       "certificate with honors                  1                4"
      ],
      "text/html": [
       "<div>\n",
       "<style scoped>\n",
       "    .dataframe tbody tr th:only-of-type {\n",
       "        vertical-align: middle;\n",
       "    }\n",
       "\n",
       "    .dataframe tbody tr th {\n",
       "        vertical-align: top;\n",
       "    }\n",
       "\n",
       "    .dataframe thead th {\n",
       "        text-align: right;\n",
       "    }\n",
       "</style>\n",
       "<table border=\"1\" class=\"dataframe\">\n",
       "  <thead>\n",
       "    <tr style=\"text-align: right;\">\n",
       "      <th>Y</th>\n",
       "      <th>there is \"3\"</th>\n",
       "      <th>there is no \"3\"</th>\n",
       "    </tr>\n",
       "    <tr>\n",
       "      <th>X</th>\n",
       "      <th></th>\n",
       "      <th></th>\n",
       "    </tr>\n",
       "  </thead>\n",
       "  <tbody>\n",
       "    <tr>\n",
       "      <th>NOT(certificate with honors)</th>\n",
       "      <td>3</td>\n",
       "      <td>2</td>\n",
       "    </tr>\n",
       "    <tr>\n",
       "      <th>certificate with honors</th>\n",
       "      <td>1</td>\n",
       "      <td>4</td>\n",
       "    </tr>\n",
       "  </tbody>\n",
       "</table>\n",
       "</div>"
      ]
     },
     "execution_count": 32,
     "metadata": {},
     "output_type": "execute_result"
    }
   ],
   "execution_count": 32
  },
  {
   "metadata": {},
   "cell_type": "markdown",
   "source": [
    "### Pearson's correlation coefficient for the dichotomous scale\n",
    "H0: There is no linear relationship between X Y\n",
    "<br>\n",
    "H1: There is a linear relationship between X Y\n",
    "\n",
    "alpha = 0.05"
   ],
   "id": "c1aa0eac005f7d52"
  },
  {
   "metadata": {
    "ExecuteTime": {
     "end_time": "2024-06-03T19:47:20.026684Z",
     "start_time": "2024-06-03T19:47:20.005663Z"
    }
   },
   "cell_type": "code",
   "source": [
    "res = pearsonr(df['X'], df['Y'])\n",
    "res"
   ],
   "id": "31ca55db76367bf0",
   "outputs": [
    {
     "data": {
      "text/plain": [
       "PearsonRResult(statistic=0.408248290463863, pvalue=0.2415039719130599)"
      ]
     },
     "execution_count": 34,
     "metadata": {},
     "output_type": "execute_result"
    }
   ],
   "execution_count": 34
  },
  {
   "metadata": {},
   "cell_type": "markdown",
   "source": "Coefficient is 0.41",
   "id": "bf0d217879ed799a"
  },
  {
   "metadata": {
    "ExecuteTime": {
     "end_time": "2024-06-03T19:49:36.940449Z",
     "start_time": "2024-06-03T19:49:36.920620Z"
    }
   },
   "cell_type": "code",
   "source": "res[1] < 0.05",
   "id": "2ce305efd127f457",
   "outputs": [
    {
     "data": {
      "text/plain": [
       "False"
      ]
     },
     "execution_count": 35,
     "metadata": {},
     "output_type": "execute_result"
    }
   ],
   "execution_count": 35
  },
  {
   "metadata": {},
   "cell_type": "markdown",
   "source": [
    "## Task 4\n",
    "\n",
    "Kendall\n",
    "Spearman\n"
   ],
   "id": "8bee919458fe16e"
  },
  {
   "metadata": {},
   "cell_type": "code",
   "outputs": [],
   "execution_count": null,
   "source": "",
   "id": "b12baecbd89aeb33"
  }
 ],
 "metadata": {
  "kernelspec": {
   "display_name": "Python 3 (ipykernel)",
   "language": "python",
   "name": "python3"
  },
  "language_info": {
   "file_extension": ".fs",
   "mimetype": "text/x-fsharp",
   "name": "F#",
   "pygments_lexer": "fsharp",
   "version": "8.0"
  }
 },
 "nbformat": 4,
 "nbformat_minor": 5
}
