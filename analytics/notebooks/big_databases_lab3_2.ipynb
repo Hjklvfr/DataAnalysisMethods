{
 "cells": [
  {
   "metadata": {},
   "cell_type": "markdown",
   "source": "# 3.2 Neo4J laba",
   "id": "bc99b7785650e3ad"
  },
  {
   "cell_type": "code",
   "id": "initial_id",
   "metadata": {
    "collapsed": true,
    "ExecuteTime": {
     "end_time": "2024-12-09T15:10:18.626361Z",
     "start_time": "2024-12-09T15:10:18.622888Z"
    }
   },
   "source": [
    "from dotenv import load_dotenv\n",
    "from py2neo import Graph\n",
    "import os"
   ],
   "outputs": [],
   "execution_count": 3
  },
  {
   "metadata": {
    "ExecuteTime": {
     "end_time": "2024-12-09T15:09:34.897165Z",
     "start_time": "2024-12-09T15:09:34.887730Z"
    }
   },
   "cell_type": "code",
   "source": "load_dotenv()",
   "id": "be3e7bc7f47d022a",
   "outputs": [
    {
     "data": {
      "text/plain": [
       "True"
      ]
     },
     "execution_count": 2,
     "metadata": {},
     "output_type": "execute_result"
    }
   ],
   "execution_count": 2
  },
  {
   "metadata": {
    "ExecuteTime": {
     "end_time": "2024-12-09T15:11:01.567801Z",
     "start_time": "2024-12-09T15:11:01.554070Z"
    }
   },
   "cell_type": "code",
   "source": "graph = Graph('bolt://localhost:7687', auth=(os.getenv('NEO_USER'), os.getenv('NEO_PASSWORD')), name='neo4j')",
   "id": "9750d87479e9e18",
   "outputs": [],
   "execution_count": 6
  },
  {
   "metadata": {
    "ExecuteTime": {
     "end_time": "2024-12-09T15:11:02.159876Z",
     "start_time": "2024-12-09T15:11:02.147747Z"
    }
   },
   "cell_type": "code",
   "source": "graph.run('show databases')",
   "id": "eb3dc8d99243750",
   "outputs": [
    {
     "data": {
      "text/plain": [
       " name   | type     | aliases | access     | address        | role    | writer | requestedStatus | currentStatus | statusMessage | default | home  | constituents \n",
       "--------|----------|---------|------------|----------------|---------|--------|-----------------|---------------|---------------|---------|-------|--------------\n",
       " neo4j  | standard | []      | read-write | localhost:7687 | primary | true   | online          | online        |               | true    | true  | []           \n",
       " system | system   | []      | read-write | localhost:7687 | primary | true   | online          | online        |               | false   | false | []           "
      ],
      "text/html": [
       "<table><tr><th>name</th><th>type</th><th>aliases</th><th>access</th><th>address</th><th>role</th><th>writer</th><th>requestedStatus</th><th>currentStatus</th><th>statusMessage</th><th>default</th><th>home</th><th>constituents</th></tr><tr><td style=\"text-align:left\">neo4j</td><td style=\"text-align:left\">standard</td><td style=\"text-align:left\">[]</td><td style=\"text-align:left\">read-write</td><td style=\"text-align:left\">localhost:7687</td><td style=\"text-align:left\">primary</td><td style=\"text-align:left\">true</td><td style=\"text-align:left\">online</td><td style=\"text-align:left\">online</td><td style=\"text-align:left\"></td><td style=\"text-align:left\">true</td><td style=\"text-align:left\">true</td><td style=\"text-align:left\">[]</td></tr><tr><td style=\"text-align:left\">system</td><td style=\"text-align:left\">system</td><td style=\"text-align:left\">[]</td><td style=\"text-align:left\">read-write</td><td style=\"text-align:left\">localhost:7687</td><td style=\"text-align:left\">primary</td><td style=\"text-align:left\">true</td><td style=\"text-align:left\">online</td><td style=\"text-align:left\">online</td><td style=\"text-align:left\"></td><td style=\"text-align:left\">false</td><td style=\"text-align:left\">false</td><td style=\"text-align:left\">[]</td></tr></table>"
      ]
     },
     "execution_count": 7,
     "metadata": {},
     "output_type": "execute_result"
    }
   ],
   "execution_count": 7
  },
  {
   "metadata": {
    "ExecuteTime": {
     "end_time": "2024-12-09T15:11:58.262873Z",
     "start_time": "2024-12-09T15:11:58.240998Z"
    }
   },
   "cell_type": "code",
   "source": "graph.run(\"match(ch: Character) where ch.Name='Robb Stark' return ch\")",
   "id": "2e5d09c03a2d6d21",
   "outputs": [
    {
     "data": {
      "text/plain": [
       " ch                                                             \n",
       "----------------------------------------------------------------\n",
       " (_84:Character {Name: 'Robb Stark', link: '/wiki/Robb_Stark'}) "
      ],
      "text/html": [
       "<table><tr><th>ch</th></tr><tr><td style=\"text-align:left\">(_84:Character {Name: &#039;Robb Stark&#039;, link: &#039;/wiki/Robb_Stark&#039;})</td></tr></table>"
      ]
     },
     "execution_count": 8,
     "metadata": {},
     "output_type": "execute_result"
    }
   ],
   "execution_count": 8
  },
  {
   "metadata": {},
   "cell_type": "markdown",
   "source": "## Create",
   "id": "98a969342cf1aa57"
  },
  {
   "metadata": {
    "ExecuteTime": {
     "end_time": "2024-12-09T15:15:24.754300Z",
     "start_time": "2024-12-09T15:15:24.719636Z"
    }
   },
   "cell_type": "code",
   "source": "graph.run(\"create(ch: Character{Name:'Alex Mezker', link: '/wiki/9669'}) return ch;\")",
   "id": "9ada06748df5d908",
   "outputs": [
    {
     "data": {
      "text/plain": [
       " ch                                                         \n",
       "------------------------------------------------------------\n",
       " (_698:Character {Name: 'Alex Mezker', link: '/wiki/9669'}) "
      ],
      "text/html": [
       "<table><tr><th>ch</th></tr><tr><td style=\"text-align:left\">(_698:Character {Name: &#039;Alex Mezker&#039;, link: &#039;/wiki/9669&#039;})</td></tr></table>"
      ]
     },
     "execution_count": 9,
     "metadata": {},
     "output_type": "execute_result"
    }
   ],
   "execution_count": 9
  },
  {
   "metadata": {},
   "cell_type": "markdown",
   "source": "## Update",
   "id": "a2c8e1eec4084569"
  },
  {
   "metadata": {
    "ExecuteTime": {
     "end_time": "2024-12-09T15:17:59.828030Z",
     "start_time": "2024-12-09T15:17:59.783508Z"
    }
   },
   "cell_type": "code",
   "source": "graph.run(\"match(ch: Character{Name: 'Alex Mezker'}) set ch.link = '/wiki/9669/updated' return ch;\")",
   "id": "27d2b459311ee657",
   "outputs": [
    {
     "data": {
      "text/plain": [
       " ch                                                                 \n",
       "--------------------------------------------------------------------\n",
       " (_698:Character {Name: 'Alex Mezker', link: '/wiki/9669/updated'}) "
      ],
      "text/html": [
       "<table><tr><th>ch</th></tr><tr><td style=\"text-align:left\">(_698:Character {Name: &#039;Alex Mezker&#039;, link: &#039;/wiki/9669/updated&#039;})</td></tr></table>"
      ]
     },
     "execution_count": 12,
     "metadata": {},
     "output_type": "execute_result"
    }
   ],
   "execution_count": 12
  },
  {
   "metadata": {},
   "cell_type": "markdown",
   "source": "## Create relation",
   "id": "9362629abebdffc3"
  },
  {
   "metadata": {
    "ExecuteTime": {
     "end_time": "2024-12-09T15:24:34.309012Z",
     "start_time": "2024-12-09T15:24:34.238860Z"
    }
   },
   "cell_type": "code",
   "source": "graph.run(\"match(ch: Character{Name: 'Alex Mezker'}),(m: Episode{title:'The Climb'}) create (ch)-[:take_part]->(m) return ch, m\")",
   "id": "d071e77815ae010a",
   "outputs": [
    {
     "data": {
      "text/plain": [
       " ch                                                                 | m                                                                         \n",
       "--------------------------------------------------------------------|---------------------------------------------------------------------------\n",
       " (_698:Character {Name: 'Alex Mezker', link: '/wiki/9669/updated'}) | (_25:Episode {epId: '26', episode: '6', season: '3', title: 'The Climb'}) "
      ],
      "text/html": [
       "<table><tr><th>ch</th><th>m</th></tr><tr><td style=\"text-align:left\">(_698:Character {Name: &#039;Alex Mezker&#039;, link: &#039;/wiki/9669/updated&#039;})</td><td style=\"text-align:left\">(_25:Episode {epId: &#039;26&#039;, episode: &#039;6&#039;, season: &#039;3&#039;, title: &#039;The Climb&#039;})</td></tr></table>"
      ]
     },
     "execution_count": 16,
     "metadata": {},
     "output_type": "execute_result"
    }
   ],
   "execution_count": 16
  },
  {
   "metadata": {
    "ExecuteTime": {
     "end_time": "2024-12-09T15:24:40.811428Z",
     "start_time": "2024-12-09T15:24:40.800039Z"
    }
   },
   "cell_type": "code",
   "source": "graph.run(\"match (m:Episode)<-[]-(ch:Character) where ch.Name = 'Alex Mezker' return m,ch;\")",
   "id": "541e5de276cdf198",
   "outputs": [
    {
     "data": {
      "text/plain": [
       " m                                                                         | ch                                                                 \n",
       "---------------------------------------------------------------------------|--------------------------------------------------------------------\n",
       " (_25:Episode {epId: '26', episode: '6', season: '3', title: 'The Climb'}) | (_698:Character {Name: 'Alex Mezker', link: '/wiki/9669/updated'}) "
      ],
      "text/html": [
       "<table><tr><th>m</th><th>ch</th></tr><tr><td style=\"text-align:left\">(_25:Episode {epId: &#039;26&#039;, episode: &#039;6&#039;, season: &#039;3&#039;, title: &#039;The Climb&#039;})</td><td style=\"text-align:left\">(_698:Character {Name: &#039;Alex Mezker&#039;, link: &#039;/wiki/9669/updated&#039;})</td></tr></table>"
      ]
     },
     "execution_count": 17,
     "metadata": {},
     "output_type": "execute_result"
    }
   ],
   "execution_count": 17
  },
  {
   "metadata": {},
   "cell_type": "markdown",
   "source": "## Delete",
   "id": "d9142f41bb2c2cc2"
  },
  {
   "metadata": {
    "ExecuteTime": {
     "end_time": "2024-12-09T15:26:42.119423Z",
     "start_time": "2024-12-09T15:26:42.045188Z"
    }
   },
   "cell_type": "code",
   "source": "graph.run(\"match (ch: Character{Name: 'Alex Mezker'}) detach delete ch;\")",
   "id": "117185392a125ee5",
   "outputs": [
    {
     "data": {
      "text/plain": [
       "(No data)"
      ],
      "text/html": [
       "(No data)"
      ]
     },
     "execution_count": 19,
     "metadata": {},
     "output_type": "execute_result"
    }
   ],
   "execution_count": 19
  },
  {
   "metadata": {
    "ExecuteTime": {
     "end_time": "2024-12-09T15:27:02.984082Z",
     "start_time": "2024-12-09T15:27:02.950503Z"
    }
   },
   "cell_type": "code",
   "source": "graph.run(\"match (ch: Character{Name: 'Alex Mezker'}) return ch;\")",
   "id": "e92333c072f97549",
   "outputs": [
    {
     "data": {
      "text/plain": [
       "(No data)"
      ],
      "text/html": [
       "(No data)"
      ]
     },
     "execution_count": 20,
     "metadata": {},
     "output_type": "execute_result"
    }
   ],
   "execution_count": 20
  }
 ],
 "metadata": {
  "kernelspec": {
   "display_name": "Python 3",
   "language": "python",
   "name": "python3"
  },
  "language_info": {
   "codemirror_mode": {
    "name": "ipython",
    "version": 2
   },
   "file_extension": ".py",
   "mimetype": "text/x-python",
   "name": "python",
   "nbconvert_exporter": "python",
   "pygments_lexer": "ipython2",
   "version": "2.7.6"
  }
 },
 "nbformat": 4,
 "nbformat_minor": 5
}
