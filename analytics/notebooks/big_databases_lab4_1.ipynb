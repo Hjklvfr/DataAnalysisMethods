{
 "cells": [
  {
   "metadata": {},
   "cell_type": "markdown",
   "source": "# 4.1 Redis laba",
   "id": "b9b9e746a19187a"
  },
  {
   "cell_type": "code",
   "id": "initial_id",
   "metadata": {
    "collapsed": true,
    "ExecuteTime": {
     "end_time": "2024-12-10T04:54:28.535671Z",
     "start_time": "2024-12-10T04:54:28.466910Z"
    }
   },
   "source": [
    "import json\n",
    "\n",
    "import redis"
   ],
   "outputs": [],
   "execution_count": 1
  },
  {
   "metadata": {
    "ExecuteTime": {
     "end_time": "2024-12-10T04:54:47.264183Z",
     "start_time": "2024-12-10T04:54:47.259736Z"
    }
   },
   "cell_type": "code",
   "source": "db = redis.Redis(host='localhost', port=6379, charset='utf-8', decode_responses=True)",
   "id": "d64dd18d1c5816ff",
   "outputs": [],
   "execution_count": 5
  },
  {
   "metadata": {
    "ExecuteTime": {
     "end_time": "2024-12-10T04:54:47.935474Z",
     "start_time": "2024-12-10T04:54:47.918699Z"
    }
   },
   "cell_type": "code",
   "source": "db.set('test', 'TEST')",
   "id": "4751838dead33767",
   "outputs": [
    {
     "data": {
      "text/plain": [
       "True"
      ]
     },
     "execution_count": 6,
     "metadata": {},
     "output_type": "execute_result"
    }
   ],
   "execution_count": 6
  },
  {
   "metadata": {
    "ExecuteTime": {
     "end_time": "2024-12-10T04:54:48.367601Z",
     "start_time": "2024-12-10T04:54:48.360295Z"
    }
   },
   "cell_type": "code",
   "source": [
    "movies = [\n",
    "    {\"title\": \"Inception\", \"director\": \"Christopher Nolan\", \"year\": 2010, \"genre\": \"Sci-Fi\", \"rating\": 8.8},\n",
    "    {\"title\": \"The Shawshank Redemption\", \"director\": \"Frank Darabont\", \"year\": 1994, \"genre\": \"Drama\", \"rating\": 9.3},\n",
    "    {\"title\": \"The Godfather\", \"director\": \"Francis Ford Coppola\", \"year\": 1972, \"genre\": \"Crime\", \"rating\": 9.2},\n",
    "    {\"title\": \"The Dark Knight\", \"director\": \"Christopher Nolan\", \"year\": 2008, \"genre\": \"Action\", \"rating\": 9.0},\n",
    "    {\"title\": \"Pulp Fiction\", \"director\": \"Quentin Tarantino\", \"year\": 1994, \"genre\": \"Crime\", \"rating\": 8.9},\n",
    "    {\"title\": \"Schindler's List\", \"director\": \"Steven Spielberg\", \"year\": 1993, \"genre\": \"Biography\", \"rating\": 8.9},\n",
    "    {\"title\": \"The Matrix\", \"director\": \"Lana Wachowski, Lilly Wachowski\", \"year\": 1999, \"genre\": \"Sci-Fi\", \"rating\": 8.7},\n",
    "    {\"title\": \"Forrest Gump\", \"director\": \"Robert Zemeckis\", \"year\": 1994, \"genre\": \"Drama\", \"rating\": 8.8},\n",
    "    {\"title\": \"Fight Club\", \"director\": \"David Fincher\", \"year\": 1999, \"genre\": \"Drama\", \"rating\": 8.8},\n",
    "    {\"title\": \"Interstellar\", \"director\": \"Christopher Nolan\", \"year\": 2014, \"genre\": \"Sci-Fi\", \"rating\": 8.6}\n",
    "]\n",
    "len(movies)"
   ],
   "id": "197e9a587c6dc47e",
   "outputs": [
    {
     "data": {
      "text/plain": [
       "10"
      ]
     },
     "execution_count": 7,
     "metadata": {},
     "output_type": "execute_result"
    }
   ],
   "execution_count": 7
  },
  {
   "metadata": {
    "ExecuteTime": {
     "end_time": "2024-12-10T04:54:48.870540Z",
     "start_time": "2024-12-10T04:54:48.857361Z"
    }
   },
   "cell_type": "code",
   "source": [
    "for movie in movies:\n",
    "    movie_id = f\"movie:{movie['title'].replace(' ', '_').lower()}\"\n",
    "    db.set(movie_id, json.dumps(movie))"
   ],
   "id": "ef263d9b6d8ffe9a",
   "outputs": [],
   "execution_count": 8
  },
  {
   "metadata": {},
   "cell_type": "markdown",
   "source": "## Единичные значения",
   "id": "3dec4cacabd2fa47"
  },
  {
   "metadata": {
    "ExecuteTime": {
     "end_time": "2024-12-10T04:56:43.307798Z",
     "start_time": "2024-12-10T04:56:43.300325Z"
    }
   },
   "cell_type": "code",
   "source": [
    "db.set(\"movie:inception:rating\", 8.8)\n",
    "\n",
    "db.get(\"movie:inception:rating\")"
   ],
   "id": "d0be487560d4f41e",
   "outputs": [
    {
     "data": {
      "text/plain": [
       "'8.8'"
      ]
     },
     "execution_count": 9,
     "metadata": {},
     "output_type": "execute_result"
    }
   ],
   "execution_count": 9
  },
  {
   "metadata": {},
   "cell_type": "markdown",
   "source": "## Списки",
   "id": "b41ff1c9c4d9e1e1"
  },
  {
   "metadata": {
    "ExecuteTime": {
     "end_time": "2024-12-10T05:05:50.182989Z",
     "start_time": "2024-12-10T05:05:50.173286Z"
    }
   },
   "cell_type": "code",
   "source": [
    "db.rpush(\"movie:inception:genres\", \"Sci-Fi\", \"Thriller\")\n",
    "\n",
    "db.lrange(\"movie:inception:genres\", 0, -1)"
   ],
   "id": "61a23d42afc4564b",
   "outputs": [
    {
     "data": {
      "text/plain": [
       "['Sci-Fi', 'Thriller']"
      ]
     },
     "execution_count": 10,
     "metadata": {},
     "output_type": "execute_result"
    }
   ],
   "execution_count": 10
  },
  {
   "metadata": {
    "ExecuteTime": {
     "end_time": "2024-12-10T05:05:51.213484Z",
     "start_time": "2024-12-10T05:05:51.204994Z"
    }
   },
   "cell_type": "code",
   "source": [
    "db.lpop(\"movie:inception:genres\")\n",
    "\n",
    "db.lrange(\"movie:inception:genres\", 0, -1)"
   ],
   "id": "217cd1f841ee753b",
   "outputs": [
    {
     "data": {
      "text/plain": [
       "['Thriller']"
      ]
     },
     "execution_count": 11,
     "metadata": {},
     "output_type": "execute_result"
    }
   ],
   "execution_count": 11
  },
  {
   "metadata": {},
   "cell_type": "markdown",
   "source": "## Sets",
   "id": "819d3bafd80aaa19"
  },
  {
   "metadata": {
    "ExecuteTime": {
     "end_time": "2024-12-10T05:11:02.750526Z",
     "start_time": "2024-12-10T05:11:02.741311Z"
    }
   },
   "cell_type": "code",
   "source": [
    "db.sadd(\"movie:inception:formats\", \"DVD\", \"Blu-Ray\", \"Digital\")\n",
    "\n",
    "db.smembers(\"movie:inception:formats\")"
   ],
   "id": "4cb914f5a874e89c",
   "outputs": [
    {
     "data": {
      "text/plain": [
       "{'Blu-Ray', 'DVD', 'Digital'}"
      ]
     },
     "execution_count": 12,
     "metadata": {},
     "output_type": "execute_result"
    }
   ],
   "execution_count": 12
  },
  {
   "metadata": {
    "ExecuteTime": {
     "end_time": "2024-12-10T05:11:03.640870Z",
     "start_time": "2024-12-10T05:11:03.634112Z"
    }
   },
   "cell_type": "code",
   "source": "db.sismember(\"movie:inception:formats\", \"Blu-Ray\")",
   "id": "1759f0d1e693e673",
   "outputs": [
    {
     "data": {
      "text/plain": [
       "1"
      ]
     },
     "execution_count": 13,
     "metadata": {},
     "output_type": "execute_result"
    }
   ],
   "execution_count": 13
  },
  {
   "metadata": {},
   "cell_type": "markdown",
   "source": "## Сортированные наборы",
   "id": "80b18dd1e97be5ad"
  },
  {
   "metadata": {
    "ExecuteTime": {
     "end_time": "2024-12-10T05:12:06.166111Z",
     "start_time": "2024-12-10T05:12:06.156152Z"
    }
   },
   "cell_type": "code",
   "source": [
    "db.zadd(\"movies:ratings\", {\"Inception\": 8.8, \"The Dark Knight\": 9.0, \"Pulp Fiction\": 8.9})\n",
    "\n",
    "db.zrange(\"movies:ratings\", 0, -1, withscores=True)"
   ],
   "id": "84aea78c8c91963c",
   "outputs": [
    {
     "data": {
      "text/plain": [
       "[('Inception', 8.8), ('Pulp Fiction', 8.9), ('The Dark Knight', 9.0)]"
      ]
     },
     "execution_count": 14,
     "metadata": {},
     "output_type": "execute_result"
    }
   ],
   "execution_count": 14
  },
  {
   "metadata": {
    "ExecuteTime": {
     "end_time": "2024-12-10T05:12:25.788776Z",
     "start_time": "2024-12-10T05:12:25.780500Z"
    }
   },
   "cell_type": "code",
   "source": [
    "db.zincrby(\"movies:ratings\", 0.2, \"Inception\")\n",
    "db.zrange(\"movies:ratings\", 0, -1, withscores=True)"
   ],
   "id": "32add6aa077cd9b6",
   "outputs": [
    {
     "data": {
      "text/plain": [
       "[('Pulp Fiction', 8.9), ('Inception', 9.0), ('The Dark Knight', 9.0)]"
      ]
     },
     "execution_count": 16,
     "metadata": {},
     "output_type": "execute_result"
    }
   ],
   "execution_count": 16
  },
  {
   "metadata": {},
   "cell_type": "markdown",
   "source": "## Хэши",
   "id": "f3a3c7fc41a04c62"
  },
  {
   "metadata": {
    "ExecuteTime": {
     "end_time": "2024-12-10T05:13:56.482802Z",
     "start_time": "2024-12-10T05:13:56.473663Z"
    }
   },
   "cell_type": "code",
   "source": [
    "movie_data = {\n",
    "    \"title\": \"Inception\",\n",
    "    \"director\": \"Christopher Nolan\",\n",
    "    \"year\": \"2010\",\n",
    "    \"genre\": \"Sci-Fi\",\n",
    "    \"rating\": \"8.8\"\n",
    "}\n",
    "db.hset(\"movie:inception:details\", mapping=movie_data)\n",
    "\n",
    "db.hgetall(\"movie:inception:details\")"
   ],
   "id": "ea6b0281bcb1b75",
   "outputs": [
    {
     "data": {
      "text/plain": [
       "{'title': 'Inception',\n",
       " 'director': 'Christopher Nolan',\n",
       " 'year': '2010',\n",
       " 'genre': 'Sci-Fi',\n",
       " 'rating': '8.8'}"
      ]
     },
     "execution_count": 17,
     "metadata": {},
     "output_type": "execute_result"
    }
   ],
   "execution_count": 17
  },
  {
   "metadata": {
    "ExecuteTime": {
     "end_time": "2024-12-10T05:13:57.497348Z",
     "start_time": "2024-12-10T05:13:57.488728Z"
    }
   },
   "cell_type": "code",
   "source": [
    "db.hset(\"movie:inception:details\", \"rating\", \"9.0\")\n",
    "\n",
    "db.hget(\"movie:inception:details\", \"rating\")"
   ],
   "id": "e5a05c73ba31357",
   "outputs": [
    {
     "data": {
      "text/plain": [
       "'9.0'"
      ]
     },
     "execution_count": 18,
     "metadata": {},
     "output_type": "execute_result"
    }
   ],
   "execution_count": 18
  }
 ],
 "metadata": {
  "kernelspec": {
   "display_name": "Python 3",
   "language": "python",
   "name": "python3"
  },
  "language_info": {
   "codemirror_mode": {
    "name": "ipython",
    "version": 2
   },
   "file_extension": ".py",
   "mimetype": "text/x-python",
   "name": "python",
   "nbconvert_exporter": "python",
   "pygments_lexer": "ipython2",
   "version": "2.7.6"
  }
 },
 "nbformat": 4,
 "nbformat_minor": 5
}
