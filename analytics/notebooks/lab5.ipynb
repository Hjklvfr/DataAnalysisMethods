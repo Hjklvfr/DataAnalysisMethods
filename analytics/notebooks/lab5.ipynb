{
 "cells": [
  {
   "metadata": {},
   "cell_type": "markdown",
   "source": [
    "# Task 5\n",
    "\n",
    "**The purpose of the work:** to learn how to build a one-factor regression model, evaluate its\n",
    "quality and the quality of its work\n",
    "\n",
    "### Variant 2\n",
    "Because my student ID number is 8ПМ32422\n"
   ],
   "id": "cc493d622c64028c"
  },
  {
   "metadata": {},
   "cell_type": "markdown",
   "source": [
    "## Task 2\n",
    "\n",
    "1. Display the data and plot a scatterplot. Define the dependent and independent variables.\n",
    "2. Check for \"normality\" variables. Draw your own conclusions.\n",
    "3. Find the correlation between the dependent and independent variables. Draw your own\n",
    "conclusions.\n",
    "4. Find the parameters of paired linear regression and build a calculation table.\n",
    "5. Evaluate the quality of the parameters of the constructed model: mixed correlation\n",
    "coefficient (R2-statistic), residual standard deviation (RSD), F-statistic, etc. Draw your\n",
    "own conclusions.\n",
    "6. Check the significance of the parameters of the regression equation and the regression\n",
    "equation itself at a significance level of 0.05).\n",
    "7. Plot the regression line on the scatterplot.\n",
    "\n",
    "| Capita income, Y ($) | Human development index, X1 | Human poverty index, X2 |\n",
    "|----------------------|-----------------------------|-------------------------|\n",
    "| 1600                 | 0,866                       | 14,9                    |\n",
    "| 7100                 | 0,833                       | 11,7                    |\n",
    "| 6750                 | 0,883                       | 11,7                    |\n",
    "| 6130                 | 0,801                       | 18,8                    |\n",
    "| 6110                 | 0,848                       | 10,7                    |\n",
    "| 4190                 | 0,730                       | 10,9                    |\n",
    "| 3850                 | 0,514                       | 34,8                    |\n",
    "| 3680                 | 0,566                       | 41,7                    |\n",
    "| 3650                 | 0,717                       | 22,8                    |\n",
    "| 3280                 | 0,711                       | 20,7                    |\n",
    "| 2680                 | 0,672                       | 17,7                    |\n",
    "| 2600                 | 0,589                       | 22,5                    |\n",
    "| 2600                 | 0,625                       | 17,5                    |\n",
    "| 2200                 | 0,513                       | 17,3                    |\n",
    "| 2150                 | 0,445                       | 46,8                    |\n",
    "| 1370                 | 0,328                       | 41,3                    |\n",
    "| 1350                 | 0,393                       | 41,6                    |\n",
    "| 1350                 | 0,446                       | 36,7                    |\n"
   ],
   "id": "dbe901eadf17afd0"
  },
  {
   "metadata": {
    "ExecuteTime": {
     "end_time": "2024-09-18T17:30:16.962143Z",
     "start_time": "2024-09-18T17:30:16.958464Z"
    }
   },
   "cell_type": "code",
   "source": [
    "import numpy as np\n",
    "import pandas as pd\n",
    "import seaborn as sns\n",
    "import matplotlib.pyplot as plt\n",
    "import sklearn.datasets"
   ],
   "id": "c6edd2e6e3260ce1",
   "outputs": [],
   "execution_count": 5
  },
  {
   "cell_type": "code",
   "id": "initial_id",
   "metadata": {
    "collapsed": true,
    "ExecuteTime": {
     "end_time": "2024-09-18T17:30:17.039909Z",
     "start_time": "2024-09-18T17:30:16.995173Z"
    }
   },
   "source": [
    "import pandas as pd\n",
    "\n",
    "Y = np.array([1600, 7100, 6750, 6130, 6110, 4190, 3850, 3680, 3650, 3280, 2680, 2600, 2600, 2200, 2150, 1370, 1350, 1350])\n",
    "X1 = np.array([0.866, 0.833, 0.883, 0.801, 0.848, 0.730, 0.514, 0.566, 0.717, 0.711, 0.672, 0.589, 0.625, 0.513, 0.445, 0.328, 0.393, 0.446])\n",
    "X2 = np.array([14.9, 11.7, 11.7, 18.8, 10.7, 10.9, 34.8, 41.7, 22.8, 20.7, 17.7, 22.5, 17.5, 17.3, 46.8, 41.3, 41.6, 36.7])\n",
    "\n",
    "df = pd.DataFrame.from_dict({'Y': Y, 'X1': X1, 'X2': X2})\n",
    "df"
   ],
   "outputs": [
    {
     "data": {
      "text/plain": [
       "       Y     X1    X2\n",
       "0   1600  0.866  14.9\n",
       "1   7100  0.833  11.7\n",
       "2   6750  0.883  11.7\n",
       "3   6130  0.801  18.8\n",
       "4   6110  0.848  10.7\n",
       "5   4190  0.730  10.9\n",
       "6   3850  0.514  34.8\n",
       "7   3680  0.566  41.7\n",
       "8   3650  0.717  22.8\n",
       "9   3280  0.711  20.7\n",
       "10  2680  0.672  17.7\n",
       "11  2600  0.589  22.5\n",
       "12  2600  0.625  17.5\n",
       "13  2200  0.513  17.3\n",
       "14  2150  0.445  46.8\n",
       "15  1370  0.328  41.3\n",
       "16  1350  0.393  41.6\n",
       "17  1350  0.446  36.7"
      ],
      "text/html": [
       "<div>\n",
       "<style scoped>\n",
       "    .dataframe tbody tr th:only-of-type {\n",
       "        vertical-align: middle;\n",
       "    }\n",
       "\n",
       "    .dataframe tbody tr th {\n",
       "        vertical-align: top;\n",
       "    }\n",
       "\n",
       "    .dataframe thead th {\n",
       "        text-align: right;\n",
       "    }\n",
       "</style>\n",
       "<table border=\"1\" class=\"dataframe\">\n",
       "  <thead>\n",
       "    <tr style=\"text-align: right;\">\n",
       "      <th></th>\n",
       "      <th>Y</th>\n",
       "      <th>X1</th>\n",
       "      <th>X2</th>\n",
       "    </tr>\n",
       "  </thead>\n",
       "  <tbody>\n",
       "    <tr>\n",
       "      <th>0</th>\n",
       "      <td>1600</td>\n",
       "      <td>0.866</td>\n",
       "      <td>14.9</td>\n",
       "    </tr>\n",
       "    <tr>\n",
       "      <th>1</th>\n",
       "      <td>7100</td>\n",
       "      <td>0.833</td>\n",
       "      <td>11.7</td>\n",
       "    </tr>\n",
       "    <tr>\n",
       "      <th>2</th>\n",
       "      <td>6750</td>\n",
       "      <td>0.883</td>\n",
       "      <td>11.7</td>\n",
       "    </tr>\n",
       "    <tr>\n",
       "      <th>3</th>\n",
       "      <td>6130</td>\n",
       "      <td>0.801</td>\n",
       "      <td>18.8</td>\n",
       "    </tr>\n",
       "    <tr>\n",
       "      <th>4</th>\n",
       "      <td>6110</td>\n",
       "      <td>0.848</td>\n",
       "      <td>10.7</td>\n",
       "    </tr>\n",
       "    <tr>\n",
       "      <th>5</th>\n",
       "      <td>4190</td>\n",
       "      <td>0.730</td>\n",
       "      <td>10.9</td>\n",
       "    </tr>\n",
       "    <tr>\n",
       "      <th>6</th>\n",
       "      <td>3850</td>\n",
       "      <td>0.514</td>\n",
       "      <td>34.8</td>\n",
       "    </tr>\n",
       "    <tr>\n",
       "      <th>7</th>\n",
       "      <td>3680</td>\n",
       "      <td>0.566</td>\n",
       "      <td>41.7</td>\n",
       "    </tr>\n",
       "    <tr>\n",
       "      <th>8</th>\n",
       "      <td>3650</td>\n",
       "      <td>0.717</td>\n",
       "      <td>22.8</td>\n",
       "    </tr>\n",
       "    <tr>\n",
       "      <th>9</th>\n",
       "      <td>3280</td>\n",
       "      <td>0.711</td>\n",
       "      <td>20.7</td>\n",
       "    </tr>\n",
       "    <tr>\n",
       "      <th>10</th>\n",
       "      <td>2680</td>\n",
       "      <td>0.672</td>\n",
       "      <td>17.7</td>\n",
       "    </tr>\n",
       "    <tr>\n",
       "      <th>11</th>\n",
       "      <td>2600</td>\n",
       "      <td>0.589</td>\n",
       "      <td>22.5</td>\n",
       "    </tr>\n",
       "    <tr>\n",
       "      <th>12</th>\n",
       "      <td>2600</td>\n",
       "      <td>0.625</td>\n",
       "      <td>17.5</td>\n",
       "    </tr>\n",
       "    <tr>\n",
       "      <th>13</th>\n",
       "      <td>2200</td>\n",
       "      <td>0.513</td>\n",
       "      <td>17.3</td>\n",
       "    </tr>\n",
       "    <tr>\n",
       "      <th>14</th>\n",
       "      <td>2150</td>\n",
       "      <td>0.445</td>\n",
       "      <td>46.8</td>\n",
       "    </tr>\n",
       "    <tr>\n",
       "      <th>15</th>\n",
       "      <td>1370</td>\n",
       "      <td>0.328</td>\n",
       "      <td>41.3</td>\n",
       "    </tr>\n",
       "    <tr>\n",
       "      <th>16</th>\n",
       "      <td>1350</td>\n",
       "      <td>0.393</td>\n",
       "      <td>41.6</td>\n",
       "    </tr>\n",
       "    <tr>\n",
       "      <th>17</th>\n",
       "      <td>1350</td>\n",
       "      <td>0.446</td>\n",
       "      <td>36.7</td>\n",
       "    </tr>\n",
       "  </tbody>\n",
       "</table>\n",
       "</div>"
      ]
     },
     "execution_count": 6,
     "metadata": {},
     "output_type": "execute_result"
    }
   ],
   "execution_count": 6
  },
  {
   "metadata": {
    "ExecuteTime": {
     "end_time": "2024-09-18T17:31:15.531634Z",
     "start_time": "2024-09-18T17:31:15.515570Z"
    }
   },
   "cell_type": "code",
   "source": "df.describe()",
   "id": "d44b0ff0bdc9448e",
   "outputs": [
    {
     "data": {
      "text/plain": [
       "                 Y         X1         X2\n",
       "count    18.000000  18.000000  18.000000\n",
       "mean   3480.000000   0.637778  24.450000\n",
       "std    1896.482813   0.173355  12.411581\n",
       "min    1350.000000   0.328000  10.700000\n",
       "25%    2162.500000   0.513250  15.500000\n",
       "50%    2980.000000   0.648500  19.750000\n",
       "75%    4105.000000   0.783250  36.225000\n",
       "max    7100.000000   0.883000  46.800000"
      ],
      "text/html": [
       "<div>\n",
       "<style scoped>\n",
       "    .dataframe tbody tr th:only-of-type {\n",
       "        vertical-align: middle;\n",
       "    }\n",
       "\n",
       "    .dataframe tbody tr th {\n",
       "        vertical-align: top;\n",
       "    }\n",
       "\n",
       "    .dataframe thead th {\n",
       "        text-align: right;\n",
       "    }\n",
       "</style>\n",
       "<table border=\"1\" class=\"dataframe\">\n",
       "  <thead>\n",
       "    <tr style=\"text-align: right;\">\n",
       "      <th></th>\n",
       "      <th>Y</th>\n",
       "      <th>X1</th>\n",
       "      <th>X2</th>\n",
       "    </tr>\n",
       "  </thead>\n",
       "  <tbody>\n",
       "    <tr>\n",
       "      <th>count</th>\n",
       "      <td>18.000000</td>\n",
       "      <td>18.000000</td>\n",
       "      <td>18.000000</td>\n",
       "    </tr>\n",
       "    <tr>\n",
       "      <th>mean</th>\n",
       "      <td>3480.000000</td>\n",
       "      <td>0.637778</td>\n",
       "      <td>24.450000</td>\n",
       "    </tr>\n",
       "    <tr>\n",
       "      <th>std</th>\n",
       "      <td>1896.482813</td>\n",
       "      <td>0.173355</td>\n",
       "      <td>12.411581</td>\n",
       "    </tr>\n",
       "    <tr>\n",
       "      <th>min</th>\n",
       "      <td>1350.000000</td>\n",
       "      <td>0.328000</td>\n",
       "      <td>10.700000</td>\n",
       "    </tr>\n",
       "    <tr>\n",
       "      <th>25%</th>\n",
       "      <td>2162.500000</td>\n",
       "      <td>0.513250</td>\n",
       "      <td>15.500000</td>\n",
       "    </tr>\n",
       "    <tr>\n",
       "      <th>50%</th>\n",
       "      <td>2980.000000</td>\n",
       "      <td>0.648500</td>\n",
       "      <td>19.750000</td>\n",
       "    </tr>\n",
       "    <tr>\n",
       "      <th>75%</th>\n",
       "      <td>4105.000000</td>\n",
       "      <td>0.783250</td>\n",
       "      <td>36.225000</td>\n",
       "    </tr>\n",
       "    <tr>\n",
       "      <th>max</th>\n",
       "      <td>7100.000000</td>\n",
       "      <td>0.883000</td>\n",
       "      <td>46.800000</td>\n",
       "    </tr>\n",
       "  </tbody>\n",
       "</table>\n",
       "</div>"
      ]
     },
     "execution_count": 7,
     "metadata": {},
     "output_type": "execute_result"
    }
   ],
   "execution_count": 7
  },
  {
   "metadata": {
    "ExecuteTime": {
     "end_time": "2024-09-18T17:36:31.983528Z",
     "start_time": "2024-09-18T17:36:30.229474Z"
    }
   },
   "cell_type": "code",
   "source": [
    "g = sns.PairGrid(df)\n",
    "g.map_diag(sns.histplot)\n",
    "g.map_offdiag(sns.scatterplot)"
   ],
   "id": "86bd1bf151483066",
   "outputs": [
    {
     "data": {
      "text/plain": [
       "<seaborn.axisgrid.PairGrid at 0x19633ddf4d0>"
      ]
     },
     "execution_count": 9,
     "metadata": {},
     "output_type": "execute_result"
    },
    {
     "data": {
      "text/plain": [
       "<Figure size 750x750 with 12 Axes>"
      ],
      "image/png": "[encoded data removed]"
     },
     "metadata": {},
     "output_type": "display_data"
    }
   ],
   "execution_count": 9
  },
  {
   "metadata": {},
   "cell_type": "markdown",
   "source": [
    "It is not possible to tell from the graphs whether the Y and X2 columns are normal, statistical test required\n",
    "\n",
    "But it is possible to notice that **per capita income (Y)** is probably linearly dependent on **human poverty index (X2)** and **human development index (X1)**"
   ],
   "id": "26a848cac287c829"
  },
  {
   "metadata": {},
   "cell_type": "markdown",
   "source": [
    "### Test for normality with Shapiro-Wilk test.\n",
    "\n",
    "p-value = 0.05"
   ],
   "id": "24c50ee5830a2225"
  },
  {
   "metadata": {
    "ExecuteTime": {
     "end_time": "2024-09-18T17:46:50.420021Z",
     "start_time": "2024-09-18T17:46:50.413943Z"
    }
   },
   "cell_type": "code",
   "source": [
    "from scipy.stats import shapiro\n",
    "\n",
    "shapiro(df['Y'])"
   ],
   "id": "657a55934274e46a",
   "outputs": [
    {
     "data": {
      "text/plain": [
       "ShapiroResult(statistic=0.8878657028862468, pvalue=0.035480990317192526)"
      ]
     },
     "execution_count": 10,
     "metadata": {},
     "output_type": "execute_result"
    }
   ],
   "execution_count": 10
  },
  {
   "metadata": {
    "ExecuteTime": {
     "end_time": "2024-09-18T17:46:51.042317Z",
     "start_time": "2024-09-18T17:46:51.036308Z"
    }
   },
   "cell_type": "code",
   "source": "shapiro(df['X2'])",
   "id": "9158734a1580005e",
   "outputs": [
    {
     "data": {
      "text/plain": [
       "ShapiroResult(statistic=0.8634385882091558, pvalue=0.013896661125399107)"
      ]
     },
     "execution_count": 11,
     "metadata": {},
     "output_type": "execute_result"
    }
   ],
   "execution_count": 11
  },
  {
   "metadata": {},
   "cell_type": "markdown",
   "source": [
    "Both p-values are less than 0.05. Therefor, Y X2 is not normally distributed accordingly Shapiro-Wilk test.\n",
    "Maybe it's because it's small sample."
   ],
   "id": "375cc79ab578f9b6"
  },
  {
   "metadata": {},
   "cell_type": "markdown",
   "source": "### Correlations",
   "id": "c2c62a930c36f533"
  },
  {
   "metadata": {
    "ExecuteTime": {
     "end_time": "2024-09-18T17:54:14.846897Z",
     "start_time": "2024-09-18T17:54:14.639145Z"
    }
   },
   "cell_type": "code",
   "source": [
    "corr = df.corr()\n",
    "mask = np.triu(np.ones_like(corr, dtype=bool))\n",
    "cmap = sns.diverging_palette(230, 20, as_cmap=True)\n",
    "sns.heatmap(corr, mask=mask, cmap=cmap, vmax=.3, center=0,\n",
    "            square=True, linewidths=.5, cbar_kws={\"shrink\": .5})"
   ],
   "id": "e508404f8cf4fb9f",
   "outputs": [
    {
     "data": {
      "text/plain": [
       "<Axes: >"
      ]
     },
     "execution_count": 12,
     "metadata": {},
     "output_type": "execute_result"
    },
    {
     "data": {
      "text/plain": [
       "<Figure size 640x480 with 2 Axes>"
      ],
      "image/png": "[encoded data removed]"
     },
     "metadata": {},
     "output_type": "display_data"
    }
   ],
   "execution_count": 12
  },
  {
   "metadata": {
    "ExecuteTime": {
     "end_time": "2024-09-18T18:01:28.088159Z",
     "start_time": "2024-09-18T18:01:28.081246Z"
    }
   },
   "cell_type": "code",
   "source": [
    "from scipy.stats import linregress\n",
    "\n",
    "reg_line = linregress(df['X2'], df['Y'])\n",
    "reg_line"
   ],
   "id": "7e0c540abb02137d",
   "outputs": [
    {
     "data": {
      "text/plain": [
       "LinregressResult(slope=-87.22184355077984, intercept=5612.574074816567, rvalue=-0.57082563794939, pvalue=0.013357572197898977, stderr=31.36481103675318, intercept_stderr=855.110634018864)"
      ]
     },
     "execution_count": 19,
     "metadata": {},
     "output_type": "execute_result"
    }
   ],
   "execution_count": 19
  },
  {
   "metadata": {
    "ExecuteTime": {
     "end_time": "2024-09-18T18:38:33.424432Z",
     "start_time": "2024-09-18T18:38:33.056468Z"
    }
   },
   "cell_type": "code",
   "source": [
    "line_X = np.linspace(10, 50, 18)\n",
    "line_Y = reg_line.slope * line_X + reg_line.intercept\n",
    "\n",
    "g = sns.FacetGrid(df, height=6)\n",
    "g = g.map(plt.scatter, 'X2', 'Y')\n",
    "plt.plot(line_X, line_Y)"
   ],
   "id": "f758655319287aa8",
   "outputs": [
    {
     "data": {
      "text/plain": [
       "[<matplotlib.lines.Line2D at 0x19638e871a0>]"
      ]
     },
     "execution_count": 29,
     "metadata": {},
     "output_type": "execute_result"
    },
    {
     "data": {
      "text/plain": [
       "<Figure size 600x600 with 1 Axes>"
      ],
      "image/png": "[encoded data removed]"
     },
     "metadata": {},
     "output_type": "display_data"
    }
   ],
   "execution_count": 29
  },
  {
   "metadata": {},
   "cell_type": "markdown",
   "source": [
    "**Y** and **X2** have a negative, weak correlation.\n",
    "\n",
    "But plot shows expected linear dependence."
   ],
   "id": "be541f4d934802bc"
  },
  {
   "metadata": {
    "ExecuteTime": {
     "end_time": "2024-09-18T18:53:33.770057Z",
     "start_time": "2024-09-18T18:53:33.765146Z"
    }
   },
   "cell_type": "code",
   "source": [
    "y_pred = df['X2'] * reg_line.slope + reg_line.intercept\n",
    "y = df.sort_values(by='X2', ascending=True)['Y']"
   ],
   "id": "7e9c9f0a573f074d",
   "outputs": [],
   "execution_count": 54
  },
  {
   "metadata": {},
   "cell_type": "markdown",
   "source": "### R2 score",
   "id": "933f92316b6a2510"
  },
  {
   "metadata": {
    "ExecuteTime": {
     "end_time": "2024-09-18T18:53:35.060495Z",
     "start_time": "2024-09-18T18:53:35.054281Z"
    }
   },
   "cell_type": "code",
   "source": [
    "from sklearn.metrics import r2_score\n",
    "\n",
    "r2_score(y, y_pred)"
   ],
   "id": "94af040ec4be35e8",
   "outputs": [
    {
     "data": {
      "text/plain": [
       "0.13002036096422886"
      ]
     },
     "execution_count": 55,
     "metadata": {},
     "output_type": "execute_result"
    }
   ],
   "execution_count": 55
  },
  {
   "metadata": {},
   "cell_type": "markdown",
   "source": "### RSD",
   "id": "fbe976458d30527c"
  },
  {
   "metadata": {
    "ExecuteTime": {
     "end_time": "2024-09-18T19:04:49.337870Z",
     "start_time": "2024-09-18T19:04:49.333133Z"
    }
   },
   "cell_type": "code",
   "source": [
    "def residual_standard_deviation(y_true, y_p):\n",
    "    residuals = y_true - y_p\n",
    "    squared_residuals = residuals ** 2\n",
    "    mean_squared_residuals = np.mean(squared_residuals)\n",
    "    return np.sqrt(mean_squared_residuals)"
   ],
   "id": "cf5bc1df89d76f43",
   "outputs": [],
   "execution_count": 67
  },
  {
   "metadata": {
    "ExecuteTime": {
     "end_time": "2024-09-18T19:04:49.771409Z",
     "start_time": "2024-09-18T19:04:49.765701Z"
    }
   },
   "cell_type": "code",
   "source": "residual_standard_deviation(y, y_pred)",
   "id": "d16d5a704be2f0c9",
   "outputs": [
    {
     "data": {
      "text/plain": [
       "1513.2754791008351"
      ]
     },
     "execution_count": 68,
     "metadata": {},
     "output_type": "execute_result"
    }
   ],
   "execution_count": 68
  },
  {
   "metadata": {},
   "cell_type": "markdown",
   "source": "Predicted values a",
   "id": "e1827921ad501279"
  },
  {
   "metadata": {
    "ExecuteTime": {
     "end_time": "2024-09-18T19:04:09.655362Z",
     "start_time": "2024-09-18T19:04:09.630893Z"
    }
   },
   "cell_type": "code",
   "source": [
    "import statsmodels.api as sm\n",
    "\n",
    "X = sm.add_constant(df['X2'])\n",
    "\n",
    "model = sm.OLS(y.to_numpy(), X).fit()\n",
    "\n",
    "model.summary()"
   ],
   "id": "374074c636f95574",
   "outputs": [
    {
     "name": "stderr",
     "output_type": "stream",
     "text": [
      "C:\\Users\\hjklv\\AppData\\Local\\pypoetry\\Cache\\virtualenvs\\data-analysis-methods-99e_IxHd-py3.12\\Lib\\site-packages\\scipy\\stats\\_axis_nan_policy.py:418: UserWarning: `kurtosistest` p-value may be inaccurate with fewer than 20 observations; only n=18 observations were given.\n",
      "  return hypotest_fun_in(*args, **kwds)\n"
     ]
    },
    {
     "data": {
      "text/plain": [
       "<class 'statsmodels.iolib.summary.Summary'>\n",
       "\"\"\"\n",
       "                            OLS Regression Results                            \n",
       "==============================================================================\n",
       "Dep. Variable:                      y   R-squared:                       0.159\n",
       "Model:                            OLS   Adj. R-squared:                  0.107\n",
       "Method:                 Least Squares   F-statistic:                     3.035\n",
       "Date:                Thu, 19 Sep 2024   Prob (F-statistic):              0.101\n",
       "Time:                        02:04:09   Log-Likelihood:                -159.32\n",
       "No. Observations:                  18   AIC:                             322.6\n",
       "Df Residuals:                      16   BIC:                             324.4\n",
       "Df Model:                           1                                         \n",
       "Covariance Type:            nonrobust                                         \n",
       "==============================================================================\n",
       "                 coef    std err          t      P>|t|      [0.025      0.975]\n",
       "------------------------------------------------------------------------------\n",
       "const       4971.7665    954.829      5.207      0.000    2947.620    6995.913\n",
       "X2           -61.0129     35.022     -1.742      0.101    -135.257      13.231\n",
       "==============================================================================\n",
       "Omnibus:                        0.701   Durbin-Watson:                   1.638\n",
       "Prob(Omnibus):                  0.704   Jarque-Bera (JB):                0.717\n",
       "Skew:                           0.283   Prob(JB):                        0.699\n",
       "Kurtosis:                       2.202   Cond. No.                         61.7\n",
       "==============================================================================\n",
       "\n",
       "Notes:\n",
       "[1] Standard Errors assume that the covariance matrix of the errors is correctly specified.\n",
       "\"\"\""
      ],
      "text/html": [
       "<table class=\"simpletable\">\n",
       "<caption>OLS Regression Results</caption>\n",
       "<tr>\n",
       "  <th>Dep. Variable:</th>            <td>y</td>        <th>  R-squared:         </th> <td>   0.159</td>\n",
       "</tr>\n",
       "<tr>\n",
       "  <th>Model:</th>                   <td>OLS</td>       <th>  Adj. R-squared:    </th> <td>   0.107</td>\n",
       "</tr>\n",
       "<tr>\n",
       "  <th>Method:</th>             <td>Least Squares</td>  <th>  F-statistic:       </th> <td>   3.035</td>\n",
       "</tr>\n",
       "<tr>\n",
       "  <th>Date:</th>             <td>Thu, 19 Sep 2024</td> <th>  Prob (F-statistic):</th>  <td> 0.101</td> \n",
       "</tr>\n",
       "<tr>\n",
       "  <th>Time:</th>                 <td>02:04:09</td>     <th>  Log-Likelihood:    </th> <td> -159.32</td>\n",
       "</tr>\n",
       "<tr>\n",
       "  <th>No. Observations:</th>      <td>    18</td>      <th>  AIC:               </th> <td>   322.6</td>\n",
       "</tr>\n",
       "<tr>\n",
       "  <th>Df Residuals:</th>          <td>    16</td>      <th>  BIC:               </th> <td>   324.4</td>\n",
       "</tr>\n",
       "<tr>\n",
       "  <th>Df Model:</th>              <td>     1</td>      <th>                     </th>     <td> </td>   \n",
       "</tr>\n",
       "<tr>\n",
       "  <th>Covariance Type:</th>      <td>nonrobust</td>    <th>                     </th>     <td> </td>   \n",
       "</tr>\n",
       "</table>\n",
       "<table class=\"simpletable\">\n",
       "<tr>\n",
       "    <td></td>       <th>coef</th>     <th>std err</th>      <th>t</th>      <th>P>|t|</th>  <th>[0.025</th>    <th>0.975]</th>  \n",
       "</tr>\n",
       "<tr>\n",
       "  <th>const</th> <td> 4971.7665</td> <td>  954.829</td> <td>    5.207</td> <td> 0.000</td> <td> 2947.620</td> <td> 6995.913</td>\n",
       "</tr>\n",
       "<tr>\n",
       "  <th>X2</th>    <td>  -61.0129</td> <td>   35.022</td> <td>   -1.742</td> <td> 0.101</td> <td> -135.257</td> <td>   13.231</td>\n",
       "</tr>\n",
       "</table>\n",
       "<table class=\"simpletable\">\n",
       "<tr>\n",
       "  <th>Omnibus:</th>       <td> 0.701</td> <th>  Durbin-Watson:     </th> <td>   1.638</td>\n",
       "</tr>\n",
       "<tr>\n",
       "  <th>Prob(Omnibus):</th> <td> 0.704</td> <th>  Jarque-Bera (JB):  </th> <td>   0.717</td>\n",
       "</tr>\n",
       "<tr>\n",
       "  <th>Skew:</th>          <td> 0.283</td> <th>  Prob(JB):          </th> <td>   0.699</td>\n",
       "</tr>\n",
       "<tr>\n",
       "  <th>Kurtosis:</th>      <td> 2.202</td> <th>  Cond. No.          </th> <td>    61.7</td>\n",
       "</tr>\n",
       "</table><br/><br/>Notes:<br/>[1] Standard Errors assume that the covariance matrix of the errors is correctly specified."
      ],
      "text/latex": "\\begin{center}\n\\begin{tabular}{lclc}\n\\toprule\n\\textbf{Dep. Variable:}    &        y         & \\textbf{  R-squared:         } &     0.159   \\\\\n\\textbf{Model:}            &       OLS        & \\textbf{  Adj. R-squared:    } &     0.107   \\\\\n\\textbf{Method:}           &  Least Squares   & \\textbf{  F-statistic:       } &     3.035   \\\\\n\\textbf{Date:}             & Thu, 19 Sep 2024 & \\textbf{  Prob (F-statistic):} &    0.101    \\\\\n\\textbf{Time:}             &     02:04:09     & \\textbf{  Log-Likelihood:    } &   -159.32   \\\\\n\\textbf{No. Observations:} &          18      & \\textbf{  AIC:               } &     322.6   \\\\\n\\textbf{Df Residuals:}     &          16      & \\textbf{  BIC:               } &     324.4   \\\\\n\\textbf{Df Model:}         &           1      & \\textbf{                     } &             \\\\\n\\textbf{Covariance Type:}  &    nonrobust     & \\textbf{                     } &             \\\\\n\\bottomrule\n\\end{tabular}\n\\begin{tabular}{lcccccc}\n               & \\textbf{coef} & \\textbf{std err} & \\textbf{t} & \\textbf{P$> |$t$|$} & \\textbf{[0.025} & \\textbf{0.975]}  \\\\\n\\midrule\n\\textbf{const} &    4971.7665  &      954.829     &     5.207  &         0.000        &     2947.620    &     6995.913     \\\\\n\\textbf{X2}    &     -61.0129  &       35.022     &    -1.742  &         0.101        &     -135.257    &       13.231     \\\\\n\\bottomrule\n\\end{tabular}\n\\begin{tabular}{lclc}\n\\textbf{Omnibus:}       &  0.701 & \\textbf{  Durbin-Watson:     } &    1.638  \\\\\n\\textbf{Prob(Omnibus):} &  0.704 & \\textbf{  Jarque-Bera (JB):  } &    0.717  \\\\\n\\textbf{Skew:}          &  0.283 & \\textbf{  Prob(JB):          } &    0.699  \\\\\n\\textbf{Kurtosis:}      &  2.202 & \\textbf{  Cond. No.          } &     61.7  \\\\\n\\bottomrule\n\\end{tabular}\n%\\caption{OLS Regression Results}\n\\end{center}\n\nNotes: \\newline\n [1] Standard Errors assume that the covariance matrix of the errors is correctly specified."
     },
     "execution_count": 66,
     "metadata": {},
     "output_type": "execute_result"
    }
   ],
   "execution_count": 66
  },
  {
   "metadata": {},
   "cell_type": "markdown",
   "source": "**Model is not statistically significant**",
   "id": "5bc307b79a7cb00f"
  },
  {
   "metadata": {},
   "cell_type": "markdown",
   "source": [
    "## Task 2\n",
    "\n",
    "1. Use the data from lab #3 (the dataset you chose).\n",
    "2. Select dependent and independent variables, build a linear regression.\n",
    "3. Plot a scatterplot, determine if there are outliers, check the distribution of your variables\n",
    "for \"normality\".\n",
    "4. Find the correlation coefficient between the variables, draw a conclusion.\n",
    "5. Find the paired linear regression coefficients, determine the quality of the found\n",
    "parameters, as well as their confidence intervals. Draw your own conclusions.\n",
    "6. Evaluate the performance of the model (prediction): Divide the data set into a sample of\n",
    "80:20 (training: test). Draw conclusions about the accuracy of the constructed model.\n",
    "7. Using k-Fold cross-validation, evaluate the accuracy of your model\n",
    "\n"
   ],
   "id": "23f459f30c600717"
  },
  {
   "metadata": {
    "ExecuteTime": {
     "end_time": "2024-09-18T19:20:29.676634Z",
     "start_time": "2024-09-18T19:20:29.668244Z"
    }
   },
   "cell_type": "code",
   "source": [
    "from sklearn import datasets\n",
    "\n",
    "diabetes = datasets.load_diabetes()"
   ],
   "id": "daec7cf405345b9e",
   "outputs": [],
   "execution_count": 74
  },
  {
   "metadata": {
    "ExecuteTime": {
     "end_time": "2024-09-18T19:20:30.545362Z",
     "start_time": "2024-09-18T19:20:30.528775Z"
    }
   },
   "cell_type": "code",
   "source": [
    "df = pd.DataFrame(data=np.c_[diabetes.data, diabetes.target], columns=diabetes.feature_names + ['target'])\n",
    "df"
   ],
   "id": "172524c1e8d230c0",
   "outputs": [
    {
     "data": {
      "text/plain": [
       "          age       sex       bmi        bp        s1        s2        s3  \\\n",
       "0    0.038076  0.050680  0.061696  0.021872 -0.044223 -0.034821 -0.043401   \n",
       "1   -0.001882 -0.044642 -0.051474 -0.026328 -0.008449 -0.019163  0.074412   \n",
       "2    0.085299  0.050680  0.044451 -0.005670 -0.045599 -0.034194 -0.032356   \n",
       "3   -0.089063 -0.044642 -0.011595 -0.036656  0.012191  0.024991 -0.036038   \n",
       "4    0.005383 -0.044642 -0.036385  0.021872  0.003935  0.015596  0.008142   \n",
       "..        ...       ...       ...       ...       ...       ...       ...   \n",
       "437  0.041708  0.050680  0.019662  0.059744 -0.005697 -0.002566 -0.028674   \n",
       "438 -0.005515  0.050680 -0.015906 -0.067642  0.049341  0.079165 -0.028674   \n",
       "439  0.041708  0.050680 -0.015906  0.017293 -0.037344 -0.013840 -0.024993   \n",
       "440 -0.045472 -0.044642  0.039062  0.001215  0.016318  0.015283 -0.028674   \n",
       "441 -0.045472 -0.044642 -0.073030 -0.081413  0.083740  0.027809  0.173816   \n",
       "\n",
       "           s4        s5        s6  target  \n",
       "0   -0.002592  0.019907 -0.017646   151.0  \n",
       "1   -0.039493 -0.068332 -0.092204    75.0  \n",
       "2   -0.002592  0.002861 -0.025930   141.0  \n",
       "3    0.034309  0.022688 -0.009362   206.0  \n",
       "4   -0.002592 -0.031988 -0.046641   135.0  \n",
       "..        ...       ...       ...     ...  \n",
       "437 -0.002592  0.031193  0.007207   178.0  \n",
       "438  0.034309 -0.018114  0.044485   104.0  \n",
       "439 -0.011080 -0.046883  0.015491   132.0  \n",
       "440  0.026560  0.044529 -0.025930   220.0  \n",
       "441 -0.039493 -0.004222  0.003064    57.0  \n",
       "\n",
       "[442 rows x 11 columns]"
      ],
      "text/html": [
       "<div>\n",
       "<style scoped>\n",
       "    .dataframe tbody tr th:only-of-type {\n",
       "        vertical-align: middle;\n",
       "    }\n",
       "\n",
       "    .dataframe tbody tr th {\n",
       "        vertical-align: top;\n",
       "    }\n",
       "\n",
       "    .dataframe thead th {\n",
       "        text-align: right;\n",
       "    }\n",
       "</style>\n",
       "<table border=\"1\" class=\"dataframe\">\n",
       "  <thead>\n",
       "    <tr style=\"text-align: right;\">\n",
       "      <th></th>\n",
       "      <th>age</th>\n",
       "      <th>sex</th>\n",
       "      <th>bmi</th>\n",
       "      <th>bp</th>\n",
       "      <th>s1</th>\n",
       "      <th>s2</th>\n",
       "      <th>s3</th>\n",
       "      <th>s4</th>\n",
       "      <th>s5</th>\n",
       "      <th>s6</th>\n",
       "      <th>target</th>\n",
       "    </tr>\n",
       "  </thead>\n",
       "  <tbody>\n",
       "    <tr>\n",
       "      <th>0</th>\n",
       "      <td>0.038076</td>\n",
       "      <td>0.050680</td>\n",
       "      <td>0.061696</td>\n",
       "      <td>0.021872</td>\n",
       "      <td>-0.044223</td>\n",
       "      <td>-0.034821</td>\n",
       "      <td>-0.043401</td>\n",
       "      <td>-0.002592</td>\n",
       "      <td>0.019907</td>\n",
       "      <td>-0.017646</td>\n",
       "      <td>151.0</td>\n",
       "    </tr>\n",
       "    <tr>\n",
       "      <th>1</th>\n",
       "      <td>-0.001882</td>\n",
       "      <td>-0.044642</td>\n",
       "      <td>-0.051474</td>\n",
       "      <td>-0.026328</td>\n",
       "      <td>-0.008449</td>\n",
       "      <td>-0.019163</td>\n",
       "      <td>0.074412</td>\n",
       "      <td>-0.039493</td>\n",
       "      <td>-0.068332</td>\n",
       "      <td>-0.092204</td>\n",
       "      <td>75.0</td>\n",
       "    </tr>\n",
       "    <tr>\n",
       "      <th>2</th>\n",
       "      <td>0.085299</td>\n",
       "      <td>0.050680</td>\n",
       "      <td>0.044451</td>\n",
       "      <td>-0.005670</td>\n",
       "      <td>-0.045599</td>\n",
       "      <td>-0.034194</td>\n",
       "      <td>-0.032356</td>\n",
       "      <td>-0.002592</td>\n",
       "      <td>0.002861</td>\n",
       "      <td>-0.025930</td>\n",
       "      <td>141.0</td>\n",
       "    </tr>\n",
       "    <tr>\n",
       "      <th>3</th>\n",
       "      <td>-0.089063</td>\n",
       "      <td>-0.044642</td>\n",
       "      <td>-0.011595</td>\n",
       "      <td>-0.036656</td>\n",
       "      <td>0.012191</td>\n",
       "      <td>0.024991</td>\n",
       "      <td>-0.036038</td>\n",
       "      <td>0.034309</td>\n",
       "      <td>0.022688</td>\n",
       "      <td>-0.009362</td>\n",
       "      <td>206.0</td>\n",
       "    </tr>\n",
       "    <tr>\n",
       "      <th>4</th>\n",
       "      <td>0.005383</td>\n",
       "      <td>-0.044642</td>\n",
       "      <td>-0.036385</td>\n",
       "      <td>0.021872</td>\n",
       "      <td>0.003935</td>\n",
       "      <td>0.015596</td>\n",
       "      <td>0.008142</td>\n",
       "      <td>-0.002592</td>\n",
       "      <td>-0.031988</td>\n",
       "      <td>-0.046641</td>\n",
       "      <td>135.0</td>\n",
       "    </tr>\n",
       "    <tr>\n",
       "      <th>...</th>\n",
       "      <td>...</td>\n",
       "      <td>...</td>\n",
       "      <td>...</td>\n",
       "      <td>...</td>\n",
       "      <td>...</td>\n",
       "      <td>...</td>\n",
       "      <td>...</td>\n",
       "      <td>...</td>\n",
       "      <td>...</td>\n",
       "      <td>...</td>\n",
       "      <td>...</td>\n",
       "    </tr>\n",
       "    <tr>\n",
       "      <th>437</th>\n",
       "      <td>0.041708</td>\n",
       "      <td>0.050680</td>\n",
       "      <td>0.019662</td>\n",
       "      <td>0.059744</td>\n",
       "      <td>-0.005697</td>\n",
       "      <td>-0.002566</td>\n",
       "      <td>-0.028674</td>\n",
       "      <td>-0.002592</td>\n",
       "      <td>0.031193</td>\n",
       "      <td>0.007207</td>\n",
       "      <td>178.0</td>\n",
       "    </tr>\n",
       "    <tr>\n",
       "      <th>438</th>\n",
       "      <td>-0.005515</td>\n",
       "      <td>0.050680</td>\n",
       "      <td>-0.015906</td>\n",
       "      <td>-0.067642</td>\n",
       "      <td>0.049341</td>\n",
       "      <td>0.079165</td>\n",
       "      <td>-0.028674</td>\n",
       "      <td>0.034309</td>\n",
       "      <td>-0.018114</td>\n",
       "      <td>0.044485</td>\n",
       "      <td>104.0</td>\n",
       "    </tr>\n",
       "    <tr>\n",
       "      <th>439</th>\n",
       "      <td>0.041708</td>\n",
       "      <td>0.050680</td>\n",
       "      <td>-0.015906</td>\n",
       "      <td>0.017293</td>\n",
       "      <td>-0.037344</td>\n",
       "      <td>-0.013840</td>\n",
       "      <td>-0.024993</td>\n",
       "      <td>-0.011080</td>\n",
       "      <td>-0.046883</td>\n",
       "      <td>0.015491</td>\n",
       "      <td>132.0</td>\n",
       "    </tr>\n",
       "    <tr>\n",
       "      <th>440</th>\n",
       "      <td>-0.045472</td>\n",
       "      <td>-0.044642</td>\n",
       "      <td>0.039062</td>\n",
       "      <td>0.001215</td>\n",
       "      <td>0.016318</td>\n",
       "      <td>0.015283</td>\n",
       "      <td>-0.028674</td>\n",
       "      <td>0.026560</td>\n",
       "      <td>0.044529</td>\n",
       "      <td>-0.025930</td>\n",
       "      <td>220.0</td>\n",
       "    </tr>\n",
       "    <tr>\n",
       "      <th>441</th>\n",
       "      <td>-0.045472</td>\n",
       "      <td>-0.044642</td>\n",
       "      <td>-0.073030</td>\n",
       "      <td>-0.081413</td>\n",
       "      <td>0.083740</td>\n",
       "      <td>0.027809</td>\n",
       "      <td>0.173816</td>\n",
       "      <td>-0.039493</td>\n",
       "      <td>-0.004222</td>\n",
       "      <td>0.003064</td>\n",
       "      <td>57.0</td>\n",
       "    </tr>\n",
       "  </tbody>\n",
       "</table>\n",
       "<p>442 rows × 11 columns</p>\n",
       "</div>"
      ]
     },
     "execution_count": 75,
     "metadata": {},
     "output_type": "execute_result"
    }
   ],
   "execution_count": 75
  },
  {
   "metadata": {},
   "cell_type": "markdown",
   "source": [
    "**s1** - dependent\n",
    "\n",
    "**s2** - const"
   ],
   "id": "c114507db35e2b27"
  },
  {
   "metadata": {
    "ExecuteTime": {
     "end_time": "2024-09-18T19:24:31.305493Z",
     "start_time": "2024-09-18T19:24:31.299267Z"
    }
   },
   "cell_type": "code",
   "source": "df = df[['s1', 's2']]",
   "id": "4a37b1bb48144180",
   "outputs": [],
   "execution_count": 78
  },
  {
   "metadata": {
    "ExecuteTime": {
     "end_time": "2024-09-18T19:24:33.923729Z",
     "start_time": "2024-09-18T19:24:32.541230Z"
    }
   },
   "cell_type": "code",
   "source": [
    "g = sns.PairGrid(df)\n",
    "g.map_diag(sns.histplot)\n",
    "g.map_offdiag(sns.scatterplot)"
   ],
   "id": "631b294cd4db62ec",
   "outputs": [
    {
     "data": {
      "text/plain": [
       "<seaborn.axisgrid.PairGrid at 0x19641eda630>"
      ]
     },
     "execution_count": 79,
     "metadata": {},
     "output_type": "execute_result"
    },
    {
     "data": {
      "text/plain": [
       "<Figure size 500x500 with 6 Axes>"
      ],
      "image/png": "[encoded data removed]"
     },
     "metadata": {},
     "output_type": "display_data"
    }
   ],
   "execution_count": 79
  },
  {
   "metadata": {},
   "cell_type": "markdown",
   "source": "Histograms shows that s1 and s2 are normally distributed. ",
   "id": "33c0c96ca01b4ea"
  },
  {
   "metadata": {
    "ExecuteTime": {
     "end_time": "2024-09-18T20:16:56.449579Z",
     "start_time": "2024-09-18T20:16:56.414514Z"
    }
   },
   "cell_type": "code",
   "source": [
    "import statsmodels.api as sm\n",
    "\n",
    "s2 = sm.add_constant(df['s2'].to_numpy())\n",
    "\n",
    "model = sm.OLS(df['s1'].to_numpy(), s2).fit(cov_type=\"fixed scale\")\n",
    "\n",
    "predictions = model.predict(s2)\n",
    "\n",
    "model.summary()"
   ],
   "id": "3f160bc4362be7e3",
   "outputs": [
    {
     "data": {
      "text/plain": [
       "<class 'statsmodels.iolib.summary.Summary'>\n",
       "\"\"\"\n",
       "                            OLS Regression Results                            \n",
       "==============================================================================\n",
       "Dep. Variable:                      y   R-squared:                       0.804\n",
       "Model:                            OLS   Adj. R-squared:                  0.804\n",
       "Method:                 Least Squares   F-statistic:                    0.8040\n",
       "Date:                Thu, 19 Sep 2024   Prob (F-statistic):              0.370\n",
       "Time:                        03:16:56   Log-Likelihood:                 1079.2\n",
       "No. Observations:                 442   AIC:                            -2154.\n",
       "Df Residuals:                     440   BIC:                            -2146.\n",
       "Df Model:                           1                                         \n",
       "Covariance Type:          fixed scale                                         \n",
       "==============================================================================\n",
       "                 coef    std err          z      P>|z|      [0.025      0.975]\n",
       "------------------------------------------------------------------------------\n",
       "const      -1.369e-17      0.048  -2.88e-16      1.000      -0.093       0.093\n",
       "x1             0.8967      1.000      0.897      0.370      -1.063       2.857\n",
       "==============================================================================\n",
       "Omnibus:                       76.759   Durbin-Watson:                   1.898\n",
       "Prob(Omnibus):                  0.000   Jarque-Bera (JB):              131.153\n",
       "Skew:                           1.025   Prob(JB):                     3.32e-29\n",
       "Kurtosis:                       4.709   Cond. No.                         21.0\n",
       "==============================================================================\n",
       "\n",
       "Notes:\n",
       "[1] Standard Errors are based on fixed scale\n",
       "\"\"\""
      ],
      "text/html": [
       "<table class=\"simpletable\">\n",
       "<caption>OLS Regression Results</caption>\n",
       "<tr>\n",
       "  <th>Dep. Variable:</th>            <td>y</td>        <th>  R-squared:         </th> <td>   0.804</td>\n",
       "</tr>\n",
       "<tr>\n",
       "  <th>Model:</th>                   <td>OLS</td>       <th>  Adj. R-squared:    </th> <td>   0.804</td>\n",
       "</tr>\n",
       "<tr>\n",
       "  <th>Method:</th>             <td>Least Squares</td>  <th>  F-statistic:       </th> <td>  0.8040</td>\n",
       "</tr>\n",
       "<tr>\n",
       "  <th>Date:</th>             <td>Thu, 19 Sep 2024</td> <th>  Prob (F-statistic):</th>  <td> 0.370</td> \n",
       "</tr>\n",
       "<tr>\n",
       "  <th>Time:</th>                 <td>03:16:56</td>     <th>  Log-Likelihood:    </th> <td>  1079.2</td>\n",
       "</tr>\n",
       "<tr>\n",
       "  <th>No. Observations:</th>      <td>   442</td>      <th>  AIC:               </th> <td>  -2154.</td>\n",
       "</tr>\n",
       "<tr>\n",
       "  <th>Df Residuals:</th>          <td>   440</td>      <th>  BIC:               </th> <td>  -2146.</td>\n",
       "</tr>\n",
       "<tr>\n",
       "  <th>Df Model:</th>              <td>     1</td>      <th>                     </th>     <td> </td>   \n",
       "</tr>\n",
       "<tr>\n",
       "  <th>Covariance Type:</th>     <td>fixed scale</td>   <th>                     </th>     <td> </td>   \n",
       "</tr>\n",
       "</table>\n",
       "<table class=\"simpletable\">\n",
       "<tr>\n",
       "    <td></td>       <th>coef</th>     <th>std err</th>      <th>z</th>      <th>P>|z|</th>  <th>[0.025</th>    <th>0.975]</th>  \n",
       "</tr>\n",
       "<tr>\n",
       "  <th>const</th> <td>-1.369e-17</td> <td>    0.048</td> <td>-2.88e-16</td> <td> 1.000</td> <td>   -0.093</td> <td>    0.093</td>\n",
       "</tr>\n",
       "<tr>\n",
       "  <th>x1</th>    <td>    0.8967</td> <td>    1.000</td> <td>    0.897</td> <td> 0.370</td> <td>   -1.063</td> <td>    2.857</td>\n",
       "</tr>\n",
       "</table>\n",
       "<table class=\"simpletable\">\n",
       "<tr>\n",
       "  <th>Omnibus:</th>       <td>76.759</td> <th>  Durbin-Watson:     </th> <td>   1.898</td>\n",
       "</tr>\n",
       "<tr>\n",
       "  <th>Prob(Omnibus):</th> <td> 0.000</td> <th>  Jarque-Bera (JB):  </th> <td> 131.153</td>\n",
       "</tr>\n",
       "<tr>\n",
       "  <th>Skew:</th>          <td> 1.025</td> <th>  Prob(JB):          </th> <td>3.32e-29</td>\n",
       "</tr>\n",
       "<tr>\n",
       "  <th>Kurtosis:</th>      <td> 4.709</td> <th>  Cond. No.          </th> <td>    21.0</td>\n",
       "</tr>\n",
       "</table><br/><br/>Notes:<br/>[1] Standard Errors are based on fixed scale"
      ],
      "text/latex": "\\begin{center}\n\\begin{tabular}{lclc}\n\\toprule\n\\textbf{Dep. Variable:}    &        y         & \\textbf{  R-squared:         } &     0.804   \\\\\n\\textbf{Model:}            &       OLS        & \\textbf{  Adj. R-squared:    } &     0.804   \\\\\n\\textbf{Method:}           &  Least Squares   & \\textbf{  F-statistic:       } &    0.8040   \\\\\n\\textbf{Date:}             & Thu, 19 Sep 2024 & \\textbf{  Prob (F-statistic):} &    0.370    \\\\\n\\textbf{Time:}             &     03:16:56     & \\textbf{  Log-Likelihood:    } &    1079.2   \\\\\n\\textbf{No. Observations:} &         442      & \\textbf{  AIC:               } &    -2154.   \\\\\n\\textbf{Df Residuals:}     &         440      & \\textbf{  BIC:               } &    -2146.   \\\\\n\\textbf{Df Model:}         &           1      & \\textbf{                     } &             \\\\\n\\textbf{Covariance Type:}  &   fixed scale    & \\textbf{                     } &             \\\\\n\\bottomrule\n\\end{tabular}\n\\begin{tabular}{lcccccc}\n               & \\textbf{coef} & \\textbf{std err} & \\textbf{z} & \\textbf{P$> |$z$|$} & \\textbf{[0.025} & \\textbf{0.975]}  \\\\\n\\midrule\n\\textbf{const} &   -1.369e-17  &        0.048     & -2.88e-16  &         1.000        &       -0.093    &        0.093     \\\\\n\\textbf{x1}    &       0.8967  &        1.000     &     0.897  &         0.370        &       -1.063    &        2.857     \\\\\n\\bottomrule\n\\end{tabular}\n\\begin{tabular}{lclc}\n\\textbf{Omnibus:}       & 76.759 & \\textbf{  Durbin-Watson:     } &    1.898  \\\\\n\\textbf{Prob(Omnibus):} &  0.000 & \\textbf{  Jarque-Bera (JB):  } &  131.153  \\\\\n\\textbf{Skew:}          &  1.025 & \\textbf{  Prob(JB):          } & 3.32e-29  \\\\\n\\textbf{Kurtosis:}      &  4.709 & \\textbf{  Cond. No.          } &     21.0  \\\\\n\\bottomrule\n\\end{tabular}\n%\\caption{OLS Regression Results}\n\\end{center}\n\nNotes: \\newline\n [1] Standard Errors are based on fixed scale"
     },
     "execution_count": 132,
     "metadata": {},
     "output_type": "execute_result"
    }
   ],
   "execution_count": 132
  },
  {
   "metadata": {
    "ExecuteTime": {
     "end_time": "2024-09-18T20:17:07.012138Z",
     "start_time": "2024-09-18T20:17:07.004537Z"
    }
   },
   "cell_type": "code",
   "source": "model.params",
   "id": "291ba2792980f4cc",
   "outputs": [
    {
     "data": {
      "text/plain": [
       "array([-1.36880524e-17,  8.96662958e-01])"
      ]
     },
     "execution_count": 133,
     "metadata": {},
     "output_type": "execute_result"
    }
   ],
   "execution_count": 133
  },
  {
   "metadata": {
    "ExecuteTime": {
     "end_time": "2024-09-18T20:17:40.018189Z",
     "start_time": "2024-09-18T20:17:39.543835Z"
    }
   },
   "cell_type": "code",
   "source": [
    "line_X = np.linspace(-0.12, 0.20, 442)\n",
    "line_Y = model.params[0] + model.params[1] * line_X\n",
    "\n",
    "g = sns.FacetGrid(df, height=6)\n",
    "g = g.map(plt.scatter, 's2', 's1')\n",
    "plt.plot(line_X, line_Y, color='red')"
   ],
   "id": "4906a57f289b7e8e",
   "outputs": [
    {
     "data": {
      "text/plain": [
       "[<matplotlib.lines.Line2D at 0x19644625490>]"
      ]
     },
     "execution_count": 135,
     "metadata": {},
     "output_type": "execute_result"
    },
    {
     "data": {
      "text/plain": [
       "<Figure size 600x600 with 1 Axes>"
      ],
      "image/png": "[encoded data removed]"
     },
     "metadata": {},
     "output_type": "display_data"
    }
   ],
   "execution_count": 135
  },
  {
   "metadata": {
    "ExecuteTime": {
     "end_time": "2024-09-18T20:17:42.420273Z",
     "start_time": "2024-09-18T20:17:41.923356Z"
    }
   },
   "cell_type": "code",
   "source": [
    "fig, axes = plt.subplots(nrows=1, ncols=2, figsize=(15, 5))\n",
    "\n",
    "sns.boxplot(data=df, x='s1', ax=axes[0])\n",
    "sns.boxplot(data=df, x='s2', ax=axes[1])\n",
    "\n",
    "\n",
    "def count_outliers(series):\n",
    "    q1 = np.percentile(series, 25)\n",
    "    q3 = np.percentile(series, 75)\n",
    "    iqr = q3 - q1\n",
    "    lower_bound = q1 - 1.5*iqr\n",
    "    upper_bound = q3 + 1.5*iqr\n",
    "    \n",
    "    return np.sum((series < lower_bound) | (series > upper_bound))\n",
    "\n",
    "\n",
    "print(\"Number of outliers at s1:\", count_outliers(df['s1']))\n",
    "print(\"Number of outliers at s2:\", count_outliers(df['s2']))"
   ],
   "id": "883378cb6e579ba1",
   "outputs": [
    {
     "name": "stdout",
     "output_type": "stream",
     "text": [
      "Number of outliers at s1: 8\n",
      "Number of outliers at s2: 7\n"
     ]
    },
    {
     "data": {
      "text/plain": [
       "<Figure size 1500x500 with 2 Axes>"
      ],
      "image/png": "[encoded data removed]"
     },
     "metadata": {},
     "output_type": "display_data"
    }
   ],
   "execution_count": 136
  },
  {
   "metadata": {
    "ExecuteTime": {
     "end_time": "2024-09-18T20:17:43.874542Z",
     "start_time": "2024-09-18T20:17:43.859433Z"
    }
   },
   "cell_type": "code",
   "source": "df.corr()",
   "id": "a608533a3e22e765",
   "outputs": [
    {
     "data": {
      "text/plain": [
       "          s1        s2\n",
       "s1  1.000000  0.896663\n",
       "s2  0.896663  1.000000"
      ],
      "text/html": [
       "<div>\n",
       "<style scoped>\n",
       "    .dataframe tbody tr th:only-of-type {\n",
       "        vertical-align: middle;\n",
       "    }\n",
       "\n",
       "    .dataframe tbody tr th {\n",
       "        vertical-align: top;\n",
       "    }\n",
       "\n",
       "    .dataframe thead th {\n",
       "        text-align: right;\n",
       "    }\n",
       "</style>\n",
       "<table border=\"1\" class=\"dataframe\">\n",
       "  <thead>\n",
       "    <tr style=\"text-align: right;\">\n",
       "      <th></th>\n",
       "      <th>s1</th>\n",
       "      <th>s2</th>\n",
       "    </tr>\n",
       "  </thead>\n",
       "  <tbody>\n",
       "    <tr>\n",
       "      <th>s1</th>\n",
       "      <td>1.000000</td>\n",
       "      <td>0.896663</td>\n",
       "    </tr>\n",
       "    <tr>\n",
       "      <th>s2</th>\n",
       "      <td>0.896663</td>\n",
       "      <td>1.000000</td>\n",
       "    </tr>\n",
       "  </tbody>\n",
       "</table>\n",
       "</div>"
      ]
     },
     "execution_count": 137,
     "metadata": {},
     "output_type": "execute_result"
    }
   ],
   "execution_count": 137
  },
  {
   "metadata": {},
   "cell_type": "markdown",
   "source": "Correlation coefficient is pretty much",
   "id": "4e250de12a0d1e68"
  },
  {
   "metadata": {
    "ExecuteTime": {
     "end_time": "2024-09-18T20:29:59.083650Z",
     "start_time": "2024-09-18T20:29:59.050478Z"
    }
   },
   "cell_type": "code",
   "source": [
    "from sklearn.model_selection import train_test_split\n",
    "\n",
    "X_train, X_test, y_train, y_test = train_test_split(df['s2'], df['s1'], test_size=0.2, random_state=42)\n",
    "\n",
    "\n",
    "s2 = sm.add_constant(X_train.to_numpy())\n",
    "model = sm.OLS(y_train, s2).fit(cov_type=\"fixed scale\", cov_kwds={'scale': 1})\n",
    "model.summary()"
   ],
   "id": "16038be6ade6d800",
   "outputs": [
    {
     "data": {
      "text/plain": [
       "<class 'statsmodels.iolib.summary.Summary'>\n",
       "\"\"\"\n",
       "                            OLS Regression Results                            \n",
       "==============================================================================\n",
       "Dep. Variable:                     s1   R-squared:                       0.794\n",
       "Model:                            OLS   Adj. R-squared:                  0.793\n",
       "Method:                 Least Squares   F-statistic:                    0.6382\n",
       "Date:                Thu, 19 Sep 2024   Prob (F-statistic):              0.425\n",
       "Time:                        03:29:59   Log-Likelihood:                 851.94\n",
       "No. Observations:                 353   AIC:                            -1700.\n",
       "Df Residuals:                     351   BIC:                            -1692.\n",
       "Df Model:                           1                                         \n",
       "Covariance Type:          fixed scale                                         \n",
       "==============================================================================\n",
       "                 coef    std err          z      P>|z|      [0.025      0.975]\n",
       "------------------------------------------------------------------------------\n",
       "const          0.0002      0.053      0.003      0.998      -0.104       0.104\n",
       "x1             0.8940      1.119      0.799      0.424      -1.299       3.087\n",
       "==============================================================================\n",
       "Omnibus:                       64.734   Durbin-Watson:                   2.032\n",
       "Prob(Omnibus):                  0.000   Jarque-Bera (JB):              107.327\n",
       "Skew:                           1.069   Prob(JB):                     4.95e-24\n",
       "Kurtosis:                       4.650   Cond. No.                         21.0\n",
       "==============================================================================\n",
       "\n",
       "Notes:\n",
       "[1] Standard Errors are based on fixed scale\n",
       "\"\"\""
      ],
      "text/html": [
       "<table class=\"simpletable\">\n",
       "<caption>OLS Regression Results</caption>\n",
       "<tr>\n",
       "  <th>Dep. Variable:</th>           <td>s1</td>        <th>  R-squared:         </th> <td>   0.794</td>\n",
       "</tr>\n",
       "<tr>\n",
       "  <th>Model:</th>                   <td>OLS</td>       <th>  Adj. R-squared:    </th> <td>   0.793</td>\n",
       "</tr>\n",
       "<tr>\n",
       "  <th>Method:</th>             <td>Least Squares</td>  <th>  F-statistic:       </th> <td>  0.6382</td>\n",
       "</tr>\n",
       "<tr>\n",
       "  <th>Date:</th>             <td>Thu, 19 Sep 2024</td> <th>  Prob (F-statistic):</th>  <td> 0.425</td> \n",
       "</tr>\n",
       "<tr>\n",
       "  <th>Time:</th>                 <td>03:29:59</td>     <th>  Log-Likelihood:    </th> <td>  851.94</td>\n",
       "</tr>\n",
       "<tr>\n",
       "  <th>No. Observations:</th>      <td>   353</td>      <th>  AIC:               </th> <td>  -1700.</td>\n",
       "</tr>\n",
       "<tr>\n",
       "  <th>Df Residuals:</th>          <td>   351</td>      <th>  BIC:               </th> <td>  -1692.</td>\n",
       "</tr>\n",
       "<tr>\n",
       "  <th>Df Model:</th>              <td>     1</td>      <th>                     </th>     <td> </td>   \n",
       "</tr>\n",
       "<tr>\n",
       "  <th>Covariance Type:</th>     <td>fixed scale</td>   <th>                     </th>     <td> </td>   \n",
       "</tr>\n",
       "</table>\n",
       "<table class=\"simpletable\">\n",
       "<tr>\n",
       "    <td></td>       <th>coef</th>     <th>std err</th>      <th>z</th>      <th>P>|z|</th>  <th>[0.025</th>    <th>0.975]</th>  \n",
       "</tr>\n",
       "<tr>\n",
       "  <th>const</th> <td>    0.0002</td> <td>    0.053</td> <td>    0.003</td> <td> 0.998</td> <td>   -0.104</td> <td>    0.104</td>\n",
       "</tr>\n",
       "<tr>\n",
       "  <th>x1</th>    <td>    0.8940</td> <td>    1.119</td> <td>    0.799</td> <td> 0.424</td> <td>   -1.299</td> <td>    3.087</td>\n",
       "</tr>\n",
       "</table>\n",
       "<table class=\"simpletable\">\n",
       "<tr>\n",
       "  <th>Omnibus:</th>       <td>64.734</td> <th>  Durbin-Watson:     </th> <td>   2.032</td>\n",
       "</tr>\n",
       "<tr>\n",
       "  <th>Prob(Omnibus):</th> <td> 0.000</td> <th>  Jarque-Bera (JB):  </th> <td> 107.327</td>\n",
       "</tr>\n",
       "<tr>\n",
       "  <th>Skew:</th>          <td> 1.069</td> <th>  Prob(JB):          </th> <td>4.95e-24</td>\n",
       "</tr>\n",
       "<tr>\n",
       "  <th>Kurtosis:</th>      <td> 4.650</td> <th>  Cond. No.          </th> <td>    21.0</td>\n",
       "</tr>\n",
       "</table><br/><br/>Notes:<br/>[1] Standard Errors are based on fixed scale"
      ],
      "text/latex": "\\begin{center}\n\\begin{tabular}{lclc}\n\\toprule\n\\textbf{Dep. Variable:}    &        s1        & \\textbf{  R-squared:         } &     0.794   \\\\\n\\textbf{Model:}            &       OLS        & \\textbf{  Adj. R-squared:    } &     0.793   \\\\\n\\textbf{Method:}           &  Least Squares   & \\textbf{  F-statistic:       } &    0.6382   \\\\\n\\textbf{Date:}             & Thu, 19 Sep 2024 & \\textbf{  Prob (F-statistic):} &    0.425    \\\\\n\\textbf{Time:}             &     03:29:59     & \\textbf{  Log-Likelihood:    } &    851.94   \\\\\n\\textbf{No. Observations:} &         353      & \\textbf{  AIC:               } &    -1700.   \\\\\n\\textbf{Df Residuals:}     &         351      & \\textbf{  BIC:               } &    -1692.   \\\\\n\\textbf{Df Model:}         &           1      & \\textbf{                     } &             \\\\\n\\textbf{Covariance Type:}  &   fixed scale    & \\textbf{                     } &             \\\\\n\\bottomrule\n\\end{tabular}\n\\begin{tabular}{lcccccc}\n               & \\textbf{coef} & \\textbf{std err} & \\textbf{z} & \\textbf{P$> |$z$|$} & \\textbf{[0.025} & \\textbf{0.975]}  \\\\\n\\midrule\n\\textbf{const} &       0.0002  &        0.053     &     0.003  &         0.998        &       -0.104    &        0.104     \\\\\n\\textbf{x1}    &       0.8940  &        1.119     &     0.799  &         0.424        &       -1.299    &        3.087     \\\\\n\\bottomrule\n\\end{tabular}\n\\begin{tabular}{lclc}\n\\textbf{Omnibus:}       & 64.734 & \\textbf{  Durbin-Watson:     } &    2.032  \\\\\n\\textbf{Prob(Omnibus):} &  0.000 & \\textbf{  Jarque-Bera (JB):  } &  107.327  \\\\\n\\textbf{Skew:}          &  1.069 & \\textbf{  Prob(JB):          } & 4.95e-24  \\\\\n\\textbf{Kurtosis:}      &  4.650 & \\textbf{  Cond. No.          } &     21.0  \\\\\n\\bottomrule\n\\end{tabular}\n%\\caption{OLS Regression Results}\n\\end{center}\n\nNotes: \\newline\n [1] Standard Errors are based on fixed scale"
     },
     "execution_count": 145,
     "metadata": {},
     "output_type": "execute_result"
    }
   ],
   "execution_count": 145
  },
  {
   "metadata": {
    "ExecuteTime": {
     "end_time": "2024-09-18T20:45:19.885268Z",
     "start_time": "2024-09-18T20:45:19.875590Z"
    }
   },
   "cell_type": "code",
   "source": "model.params",
   "id": "776efa33bcff1344",
   "outputs": [
    {
     "data": {
      "text/plain": [
       "const    0.000165\n",
       "x1       0.893956\n",
       "dtype: float64"
      ]
     },
     "execution_count": 152,
     "metadata": {},
     "output_type": "execute_result"
    }
   ],
   "execution_count": 152
  },
  {
   "metadata": {
    "ExecuteTime": {
     "end_time": "2024-09-18T20:47:31.678713Z",
     "start_time": "2024-09-18T20:47:31.668004Z"
    }
   },
   "cell_type": "code",
   "source": [
    "from sklearn.metrics import r2_score\n",
    "\n",
    "r2_score(y_train, model.params.const + model.params.x1 * X_train)"
   ],
   "id": "da46e4380074ff83",
   "outputs": [
    {
     "data": {
      "text/plain": [
       "0.7939937125088611"
      ]
     },
     "execution_count": 155,
     "metadata": {},
     "output_type": "execute_result"
    }
   ],
   "execution_count": 155
  },
  {
   "metadata": {},
   "cell_type": "code",
   "outputs": [],
   "execution_count": null,
   "source": "residual_standard_deviation(y_train, model.params.const + model.params.x1 * X_train)",
   "id": "6c00a1f772e02693"
  },
  {
   "metadata": {
    "ExecuteTime": {
     "end_time": "2024-09-18T20:47:57.559530Z",
     "start_time": "2024-09-18T20:47:57.548336Z"
    }
   },
   "cell_type": "code",
   "source": "r2_score(y_test, model.params.const + model.params.x1 * X_test)",
   "id": "ac346d3922e68a8c",
   "outputs": [
    {
     "data": {
      "text/plain": [
       "0.8444858239039836"
      ]
     },
     "execution_count": 157,
     "metadata": {},
     "output_type": "execute_result"
    }
   ],
   "execution_count": 157
  },
  {
   "metadata": {
    "ExecuteTime": {
     "end_time": "2024-09-18T20:49:26.168386Z",
     "start_time": "2024-09-18T20:49:26.156914Z"
    }
   },
   "cell_type": "code",
   "source": "residual_standard_deviation(y_test, model.params.const + model.params.x1 * X_test)",
   "id": "988dd0047803a0d7",
   "outputs": [
    {
     "data": {
      "text/plain": [
       "0.018490778872382544"
      ]
     },
     "execution_count": 158,
     "metadata": {},
     "output_type": "execute_result"
    }
   ],
   "execution_count": 158
  },
  {
   "metadata": {
    "ExecuteTime": {
     "end_time": "2024-09-18T20:52:26.822084Z",
     "start_time": "2024-09-18T20:52:26.814567Z"
    }
   },
   "cell_type": "code",
   "source": [
    "from sklearn.base import BaseEstimator, RegressorMixin\n",
    "class SmOLS(BaseEstimator, RegressorMixin):\n",
    "    def __init__(self):\n",
    "        self.model = None\n",
    "\n",
    "    # Fit method (required by sklearn)\n",
    "    def fit(self, X, y):\n",
    "        X_with_const = sm.add_constant(X)  # Add intercept\n",
    "        self.model = sm.OLS(y, X_with_const).fit()  # Fit the OLS model\n",
    "        return self\n",
    "\n",
    "    # Predict method (required by sklearn)\n",
    "    def predict(self, X):\n",
    "        X_with_const = sm.add_constant(X)  # Add intercept\n",
    "        return self.model.predict(X_with_const)"
   ],
   "id": "8200002b1860c100",
   "outputs": [],
   "execution_count": 160
  },
  {
   "metadata": {
    "ExecuteTime": {
     "end_time": "2024-09-18T20:54:13.297989Z",
     "start_time": "2024-09-18T20:54:13.255596Z"
    }
   },
   "cell_type": "code",
   "source": [
    "from sklearn.model_selection import cross_val_score\n",
    "\n",
    "scores = cross_val_score(SmOLS(), X_test, y_test, cv=5, scoring='neg_mean_squared_error')\n",
    "average_mse = -scores.mean()\n",
    "average_mse"
   ],
   "id": "80fd7eaadfed0f46",
   "outputs": [
    {
     "data": {
      "text/plain": [
       "0.0003800943448964966"
      ]
     },
     "execution_count": 165,
     "metadata": {},
     "output_type": "execute_result"
    }
   ],
   "execution_count": 165
  },
  {
   "metadata": {},
   "cell_type": "markdown",
   "source": [
    "Scores are small\n",
    "\n",
    "Model is statistically significant"
   ],
   "id": "196a0a523f3ce938"
  },
  {
   "metadata": {},
   "cell_type": "code",
   "outputs": [],
   "execution_count": null,
   "source": "",
   "id": "d1e35561bf145a71"
  }
 ],
 "metadata": {
  "kernelspec": {
   "display_name": "Python 3",
   "language": "python",
   "name": "python3"
  },
  "language_info": {
   "codemirror_mode": {
    "name": "ipython",
    "version": 2
   },
   "file_extension": ".py",
   "mimetype": "text/x-python",
   "name": "python",
   "nbconvert_exporter": "python",
   "pygments_lexer": "ipython2",
   "version": "2.7.6"
  }
 },
 "nbformat": 4,
 "nbformat_minor": 5
}
