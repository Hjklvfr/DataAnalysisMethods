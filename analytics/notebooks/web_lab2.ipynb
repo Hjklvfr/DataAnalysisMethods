{
 "cells": [
  {
   "metadata": {},
   "cell_type": "markdown",
   "source": "# Lab 2",
   "id": "d97b6ad70423c27d"
  },
  {
   "cell_type": "code",
   "id": "initial_id",
   "metadata": {
    "collapsed": true,
    "ExecuteTime": {
     "end_time": "2025-05-30T19:30:24.343652Z",
     "start_time": "2025-05-30T19:30:24.088251Z"
    }
   },
   "source": [
    "from selenium import webdriver\n",
    "from selenium.webdriver.common.keys import Keys\n",
    "from selenium.webdriver.common.by import By"
   ],
   "outputs": [],
   "execution_count": 5
  },
  {
   "metadata": {
    "ExecuteTime": {
     "end_time": "2025-05-30T19:30:30.850769Z",
     "start_time": "2025-05-30T19:30:24.590032Z"
    }
   },
   "cell_type": "code",
   "source": "driver = webdriver.ChromiumEdge()",
   "id": "9e628908ab210bc0",
   "outputs": [],
   "execution_count": 6
  },
  {
   "metadata": {
    "ExecuteTime": {
     "end_time": "2025-05-30T19:31:39.050671Z",
     "start_time": "2025-05-30T19:30:53.165669Z"
    }
   },
   "cell_type": "code",
   "source": "driver.get('https://genius.com/')",
   "id": "95850cc6c5f43236",
   "outputs": [],
   "execution_count": 7
  },
  {
   "metadata": {
    "ExecuteTime": {
     "end_time": "2025-05-30T19:32:24.122530Z",
     "start_time": "2025-05-30T19:32:24.104152Z"
    }
   },
   "cell_type": "code",
   "source": "query_input = driver.find_element(By.NAME, 'q')",
   "id": "910d0899b57593ed",
   "outputs": [],
   "execution_count": 9
  },
  {
   "metadata": {
    "ExecuteTime": {
     "end_time": "2025-05-30T19:32:30.721556Z",
     "start_time": "2025-05-30T19:32:30.664956Z"
    }
   },
   "cell_type": "code",
   "source": "query_input.clear()",
   "id": "4c44912f93d67efa",
   "outputs": [],
   "execution_count": 10
  },
  {
   "metadata": {
    "ExecuteTime": {
     "end_time": "2025-05-30T19:32:59.210507Z",
     "start_time": "2025-05-30T19:32:59.004096Z"
    }
   },
   "cell_type": "code",
   "source": [
    "query_input.send_keys('Slipknot')\n",
    "query_input.send_keys(Keys.RETURN)"
   ],
   "id": "121f8888865ad756",
   "outputs": [],
   "execution_count": 11
  },
  {
   "metadata": {
    "ExecuteTime": {
     "end_time": "2025-05-30T19:36:55.152534Z",
     "start_time": "2025-05-30T19:36:55.069848Z"
    }
   },
   "cell_type": "code",
   "source": "driver.find_element(By.CSS_SELECTOR, '[hit=\"hit\"]').find_element(By.CLASS_NAME, 'mini_card-title').text",
   "id": "ed57e6a38f98147e",
   "outputs": [
    {
     "data": {
      "text/plain": [
       "'Slipknot'"
      ]
     },
     "execution_count": 12,
     "metadata": {},
     "output_type": "execute_result"
    }
   ],
   "execution_count": 12
  },
  {
   "metadata": {
    "ExecuteTime": {
     "end_time": "2025-05-30T19:40:14.683175Z",
     "start_time": "2025-05-30T19:40:14.351074Z"
    }
   },
   "cell_type": "code",
   "source": [
    "for el in driver.find_elements(By.CSS_SELECTOR, 'div[ng-repeat=\"section in $ctrl.sections\"]'):\n",
    "    print(el.text)"
   ],
   "id": "da0a022d61578065",
   "outputs": [
    {
     "name": "stdout",
     "output_type": "stream",
     "text": [
      "TOP RESULT\n",
      "Slipknot\n",
      "SONGS\n",
      "Snuff\n",
      "Slipknot\n",
      "873.9K\n",
      "Psychosocial\n",
      "Slipknot\n",
      "708.5K\n",
      "Slipknot\n",
      "XXXTENTACION\n",
      "554K\n",
      "Duality\n",
      "Slipknot\n",
      "500.6K\n",
      "(sic)\n",
      "Slipknot\n",
      "421.9K\n",
      "Show more songs\n",
      "LYRIC MATCHES\n",
      "Jocelyn Flores\n",
      "XXXTENTACION\n",
      "surface through the grapevine\n",
      "'Bout my uncle playin' with a slip knot\n",
      "Post-traumatic stress got me fucked up\n",
      "Been\n",
      "Guillotine\n",
      "Death Grips\n",
      "it goes\n",
      "Guillotine, yuh\n",
      "Guillotine, yuh\n",
      "Tinted windows, bulletproof\n",
      "The  fixing rope to noose\n",
      "To the grave stone\n",
      "Vegas\n",
      "Bad Meets Evil\n",
      "in chocolatey whip-toppin'\n",
      "So whether you're hip-hop, Slipknot, B.I.G., Pac\n",
      "Kid Rock, Kris Kross, Rick\n",
      "Like I Ain’t\n",
      "Tech N9ne\n",
      "Tryna write all the way up to my homie in Slipknot (Maggot, chuh)\n",
      "Like I never heard fans yell it\n",
      "NorthStar\n",
      "XXXTENTACION\n",
      "canaries on my wristwatch, yeah\n",
      "Niggas get buried in the slipknot, woah\n",
      "Shorty think I'm married, but my dick\n",
      "Show more lyric matches\n",
      "\n",
      "\n",
      "\n",
      "\n",
      "\n",
      "\n",
      "\n",
      "\n",
      "ARTISTS\n",
      "Slipknot\n",
      "Slipknot (Punk Band)\n",
      "Djj-Slipknot\n",
      "Show more artists\n",
      "ALBUMS\n",
      "Slipknot (10th Anniversary Edition)\n",
      "2009\n",
      "Slipknot\n",
      "1999\n",
      "Slipknot (Demo)\n",
      "1998\n",
      "Show more albums\n",
      "\n",
      "ARTICLES\n",
      "SLIPKNOT’S JIM ROOT EXPRESSES HIS APPRECIATION FOR ARIANA GRANDE’S “AWESOME” MUSIC\n",
      "SLIPKNOT’S COREY TAYLOR EXPLAINS WHY MUSICIANS DON’T NEED DRUGS & ALCOHOL TO BE CREATIVE\n",
      "READ ALL THE LYRICS TO SLIPKNOT’S NEW ALBUM ‘WE ARE NOT YOUR KIND’\n",
      "Show more articles\n",
      "USERS\n",
      "Slipknot24\n",
      "slipknotboi92\n",
      "SlipknotSam33\n",
      "Show more users\n"
     ]
    }
   ],
   "execution_count": 16
  },
  {
   "metadata": {
    "ExecuteTime": {
     "end_time": "2025-05-30T19:42:00.612021Z",
     "start_time": "2025-05-30T19:42:00.590449Z"
    }
   },
   "cell_type": "code",
   "source": "songs_section = driver.find_elements(By.CSS_SELECTOR, 'div[ng-repeat=\"section in $ctrl.sections\"]')[1]",
   "id": "6c611935cb0709a2",
   "outputs": [],
   "execution_count": 19
  },
  {
   "metadata": {
    "ExecuteTime": {
     "end_time": "2025-05-30T19:43:47.737329Z",
     "start_time": "2025-05-30T19:43:47.706978Z"
    }
   },
   "cell_type": "code",
   "source": "songs_elements = songs_section.find_element(By.CSS_SELECTOR, 'search-result-items').find_elements(By.CSS_SELECTOR, 'search-result-item')[0:3]",
   "id": "ff0ef064261380b2",
   "outputs": [],
   "execution_count": 24
  },
  {
   "metadata": {
    "ExecuteTime": {
     "end_time": "2025-05-30T19:43:48.109305Z",
     "start_time": "2025-05-30T19:43:48.101777Z"
    }
   },
   "cell_type": "code",
   "source": "len(songs_elements)",
   "id": "c9fa681cb5810623",
   "outputs": [
    {
     "data": {
      "text/plain": [
       "3"
      ]
     },
     "execution_count": 25,
     "metadata": {},
     "output_type": "execute_result"
    }
   ],
   "execution_count": 25
  },
  {
   "metadata": {
    "ExecuteTime": {
     "end_time": "2025-05-30T19:46:51.852718Z",
     "start_time": "2025-05-30T19:46:51.677057Z"
    }
   },
   "cell_type": "code",
   "source": [
    "for el in songs_elements:\n",
    "    print(f\"Title: {el.find_element(By.CLASS_NAME, 'mini_card-title').text} Author: {el.find_element(By.CLASS_NAME, 'mini_card-subtitle').text}\")"
   ],
   "id": "3c7b244bcc998e70",
   "outputs": [
    {
     "name": "stdout",
     "output_type": "stream",
     "text": [
      "Title: Snuff Author: Slipknot\n",
      "Title: Psychosocial Author: Slipknot\n",
      "Title: Slipknot Author: XXXTENTACION\n"
     ]
    }
   ],
   "execution_count": 29
  },
  {
   "metadata": {},
   "cell_type": "code",
   "outputs": [],
   "execution_count": null,
   "source": "",
   "id": "1a92ef876b02bdb5"
  }
 ],
 "metadata": {
  "kernelspec": {
   "display_name": "Python 3",
   "language": "python",
   "name": "python3"
  },
  "language_info": {
   "codemirror_mode": {
    "name": "ipython",
    "version": 2
   },
   "file_extension": ".py",
   "mimetype": "text/x-python",
   "name": "python",
   "nbconvert_exporter": "python",
   "pygments_lexer": "ipython2",
   "version": "2.7.6"
  }
 },
 "nbformat": 4,
 "nbformat_minor": 5
}
