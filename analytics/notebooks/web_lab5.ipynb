{
 "cells": [
  {
   "metadata": {},
   "cell_type": "markdown",
   "source": "# Lab 5",
   "id": "726f29f759e2b5ba"
  },
  {
   "metadata": {
    "ExecuteTime": {
     "end_time": "2025-05-31T07:17:57.442991Z",
     "start_time": "2025-05-31T07:17:57.314540Z"
    }
   },
   "cell_type": "code",
   "source": [
    "import pytesseract\n",
    "from PIL import Image\n",
    "import requests\n",
    "import cv2\n",
    "import numpy as np\n"
   ],
   "id": "882503817e38b6a9",
   "outputs": [],
   "execution_count": 1
  },
  {
   "metadata": {},
   "cell_type": "code",
   "outputs": [],
   "execution_count": null,
   "source": [
    "UNSPLASH_API_KEY = 'QXRqODn1drWf1KVsl8NgA43ZaQailRKxtAYW2XU7uhw'\n",
    "# pytesseract.pytesseract.tesseract_cmd = r'C:\\Program Files\\Tesseract-OCR\\tesseract.exe'"
   ],
   "id": "6f2c69bd56175e4f"
  },
  {
   "metadata": {},
   "cell_type": "code",
   "outputs": [],
   "execution_count": null,
   "source": [
    "def get_unsplash_images(query, num_images=100):\n",
    "    url = f'https://api.unsplash.com/photos/random?query={query}&count={num_images}'\n",
    "    headers = {'Authorization': f'Client-ID {UNSPLASH_API_KEY}'}\n",
    "\n",
    "    # Отправляем запрос к API\n",
    "    response = requests.get(url, headers=headers)\n",
    "\n",
    "    if response.status_code == 200:\n",
    "        data = response.json()\n",
    "        # Извлекаем ссылки на изображения\n",
    "        image_urls = [photo['urls']['regular'] for photo in data]\n",
    "        return image_urls\n",
    "    else:\n",
    "        print(f\"Ошибка: {response.status_code}\")\n",
    "        return []"
   ],
   "id": "1033d54e48ff7123"
  },
  {
   "metadata": {},
   "cell_type": "code",
   "outputs": [],
   "execution_count": null,
   "source": [
    "image_urls = get_unsplash_images('quote', num_images=100)\n",
    "\n",
    "for url in image_urls:\n",
    "    image1 = Image.open(requests.get(url, stream=True).raw)\n",
    "\n",
    "    response = requests.get(url)\n",
    "    image_array = np.array(bytearray(response.content), dtype=np.uint8)\n",
    "    image = cv2.imdecode(image_array, cv2.IMREAD_COLOR)\n",
    "\n",
    "    gray_image = cv2.cvtColor(image, cv2.COLOR_BGR2GRAY)\n",
    "\n",
    "    blurred_image = cv2.GaussianBlur(gray_image, (5, 5), 0)\n",
    "\n",
    "    text = pytesseract.image_to_string(blurred_image, lang='eng')\n",
    "    print(url)\n",
    "    print(text)"
   ],
   "id": "bb8668e6ed266d8c"
  },
  {
   "metadata": {},
   "cell_type": "code",
   "outputs": [],
   "execution_count": null,
   "source": "",
   "id": "b20e67ffaccc6853"
  }
 ],
 "metadata": {},
 "nbformat": 4,
 "nbformat_minor": 5
}
